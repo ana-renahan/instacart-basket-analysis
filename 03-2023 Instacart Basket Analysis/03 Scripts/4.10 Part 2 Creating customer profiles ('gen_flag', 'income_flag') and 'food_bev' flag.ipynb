{
 "cells": [
  {
   "cell_type": "markdown",
   "id": "ee80c333",
   "metadata": {},
   "source": [
    "### This script contains the following points:\n",
    "Note: Corresponding steps for exercise task shown as (Step x)\n",
    "\n",
    "#### 1. (Step 1 revisited) Importing libraries, defining project path, and importing \"orders_products_all_flagged.pkl\"\n",
    "#### 2. (Step 5a) Creating customer profiles for generation and income (columns \"gen_flag\" and \"income_flag\")\n",
    "#### 3. (Step 5b) Creating a flag for non-food and non-beverage departments (column \"food_bev?\")\n",
    "#### 4. (Step 6) Creating visualizations for distribution of profiles\n",
    "- (a) Generation profiles: Description and Frequency Chart\n",
    "- (b) Income profiles: Description and Frequency Chart\n",
    "\n",
    "#### 5. (Step 7) Aggregating max, min, and mean variables on a customer-profile level (\"gen_flag\" and \"income_flag\") for usage frequency (\"order_freq_flag\") and expenditure (\"spend_flag\")\n",
    "#### 6. Exporting file as \"orders_products_all_flagged_2.pkl\""
   ]
  },
  {
   "cell_type": "markdown",
   "id": "fa112dd3",
   "metadata": {},
   "source": [
    "## 1. (Step 1 revisited) Importing libraries, defining project path, and importing \"orders_products_all_flagged.pkl\""
   ]
  },
  {
   "cell_type": "code",
   "execution_count": 1,
   "id": "4cf3eaa0",
   "metadata": {},
   "outputs": [],
   "source": [
    "# Import libraries\n",
    "\n",
    "import pandas as pd\n",
    "import numpy as np\n",
    "import os\n",
    "import matplotlib.pyplot as plt\n",
    "import seaborn as sns\n",
    "import scipy"
   ]
  },
  {
   "cell_type": "code",
   "execution_count": 2,
   "id": "bbe6cf8c",
   "metadata": {},
   "outputs": [],
   "source": [
    "# Set path\n",
    "path = r'C:\\Users\\prena\\03-2023 Instacart Basket Analysis'"
   ]
  },
  {
   "cell_type": "code",
   "execution_count": 3,
   "id": "f6453eba",
   "metadata": {},
   "outputs": [],
   "source": [
    "# Importing orders_products_all.pkl dataset\n",
    "ords_prods_all_flagged = pd.read_pickle(os.path.join(path, '02 Data', 'Prepared Data', 'orders_products_all_flagged.pkl'))"
   ]
  },
  {
   "cell_type": "code",
   "execution_count": 4,
   "id": "70283546",
   "metadata": {},
   "outputs": [],
   "source": [
    "# Importing departments_wrangled.csv dataset\n",
    "depts = pd.read_csv(os.path.join(path, '02 Data', 'Prepared Data', 'departments_wrangled.csv'))"
   ]
  },
  {
   "cell_type": "code",
   "execution_count": 5,
   "id": "1dcdba7b",
   "metadata": {},
   "outputs": [],
   "source": [
    "depts.rename(columns = {'Unnamed: 0' : 'department_id'}, inplace = True)"
   ]
  },
  {
   "cell_type": "code",
   "execution_count": 6,
   "id": "2420a2a0",
   "metadata": {},
   "outputs": [],
   "source": [
    "# Set display to max columns for when we want to review the head() or tail()\n",
    "pd.set_option('display.max_columns', None)"
   ]
  },
  {
   "cell_type": "code",
   "execution_count": 7,
   "id": "6fd18bc1",
   "metadata": {},
   "outputs": [
    {
     "data": {
      "text/html": [
       "<div>\n",
       "<style scoped>\n",
       "    .dataframe tbody tr th:only-of-type {\n",
       "        vertical-align: middle;\n",
       "    }\n",
       "\n",
       "    .dataframe tbody tr th {\n",
       "        vertical-align: top;\n",
       "    }\n",
       "\n",
       "    .dataframe thead th {\n",
       "        text-align: right;\n",
       "    }\n",
       "</style>\n",
       "<table border=\"1\" class=\"dataframe\">\n",
       "  <thead>\n",
       "    <tr style=\"text-align: right;\">\n",
       "      <th></th>\n",
       "      <th>order_id</th>\n",
       "      <th>user_id</th>\n",
       "      <th>order_number</th>\n",
       "      <th>order_day_of_week</th>\n",
       "      <th>order_hour_of_day</th>\n",
       "      <th>days_since_last_order</th>\n",
       "      <th>product_id</th>\n",
       "      <th>add_to_cart_order</th>\n",
       "      <th>reordered</th>\n",
       "      <th>_merge</th>\n",
       "      <th>product_name</th>\n",
       "      <th>aisle_id</th>\n",
       "      <th>department_id</th>\n",
       "      <th>prices</th>\n",
       "      <th>_merge_2</th>\n",
       "      <th>price_range_loc</th>\n",
       "      <th>busiest_day</th>\n",
       "      <th>busiest_days</th>\n",
       "      <th>busiest_period_of_day</th>\n",
       "      <th>max_order</th>\n",
       "      <th>loyalty_flag</th>\n",
       "      <th>avg_price</th>\n",
       "      <th>spend_flag</th>\n",
       "      <th>median_days_since_last_order</th>\n",
       "      <th>order_freq_flag</th>\n",
       "      <th>gender</th>\n",
       "      <th>state</th>\n",
       "      <th>age</th>\n",
       "      <th>date_joined</th>\n",
       "      <th>dependants_count</th>\n",
       "      <th>fam_status</th>\n",
       "      <th>income</th>\n",
       "      <th>_merge_3</th>\n",
       "      <th>region</th>\n",
       "      <th>low_activity?</th>\n",
       "    </tr>\n",
       "  </thead>\n",
       "  <tbody>\n",
       "    <tr>\n",
       "      <th>0</th>\n",
       "      <td>2539329</td>\n",
       "      <td>1</td>\n",
       "      <td>1</td>\n",
       "      <td>2</td>\n",
       "      <td>8</td>\n",
       "      <td>NaN</td>\n",
       "      <td>196</td>\n",
       "      <td>1</td>\n",
       "      <td>0</td>\n",
       "      <td>both</td>\n",
       "      <td>Soda</td>\n",
       "      <td>77</td>\n",
       "      <td>7</td>\n",
       "      <td>9.0</td>\n",
       "      <td>both</td>\n",
       "      <td>Mid-range product</td>\n",
       "      <td>Regularly busy</td>\n",
       "      <td>Regularly busy</td>\n",
       "      <td>Average orders</td>\n",
       "      <td>10</td>\n",
       "      <td>New customer</td>\n",
       "      <td>6.367188</td>\n",
       "      <td>Low spender</td>\n",
       "      <td>20.5</td>\n",
       "      <td>Non-frequent customer</td>\n",
       "      <td>Female</td>\n",
       "      <td>Alabama</td>\n",
       "      <td>31</td>\n",
       "      <td>2/17/2019</td>\n",
       "      <td>3</td>\n",
       "      <td>married</td>\n",
       "      <td>40423</td>\n",
       "      <td>both</td>\n",
       "      <td>South</td>\n",
       "      <td>N</td>\n",
       "    </tr>\n",
       "    <tr>\n",
       "      <th>1</th>\n",
       "      <td>2398795</td>\n",
       "      <td>1</td>\n",
       "      <td>2</td>\n",
       "      <td>3</td>\n",
       "      <td>7</td>\n",
       "      <td>15.0</td>\n",
       "      <td>196</td>\n",
       "      <td>1</td>\n",
       "      <td>1</td>\n",
       "      <td>both</td>\n",
       "      <td>Soda</td>\n",
       "      <td>77</td>\n",
       "      <td>7</td>\n",
       "      <td>9.0</td>\n",
       "      <td>both</td>\n",
       "      <td>Mid-range product</td>\n",
       "      <td>Regularly busy</td>\n",
       "      <td>Least busy</td>\n",
       "      <td>Average orders</td>\n",
       "      <td>10</td>\n",
       "      <td>New customer</td>\n",
       "      <td>6.367188</td>\n",
       "      <td>Low spender</td>\n",
       "      <td>20.5</td>\n",
       "      <td>Non-frequent customer</td>\n",
       "      <td>Female</td>\n",
       "      <td>Alabama</td>\n",
       "      <td>31</td>\n",
       "      <td>2/17/2019</td>\n",
       "      <td>3</td>\n",
       "      <td>married</td>\n",
       "      <td>40423</td>\n",
       "      <td>both</td>\n",
       "      <td>South</td>\n",
       "      <td>N</td>\n",
       "    </tr>\n",
       "    <tr>\n",
       "      <th>2</th>\n",
       "      <td>473747</td>\n",
       "      <td>1</td>\n",
       "      <td>3</td>\n",
       "      <td>3</td>\n",
       "      <td>12</td>\n",
       "      <td>21.0</td>\n",
       "      <td>196</td>\n",
       "      <td>1</td>\n",
       "      <td>1</td>\n",
       "      <td>both</td>\n",
       "      <td>Soda</td>\n",
       "      <td>77</td>\n",
       "      <td>7</td>\n",
       "      <td>9.0</td>\n",
       "      <td>both</td>\n",
       "      <td>Mid-range product</td>\n",
       "      <td>Regularly busy</td>\n",
       "      <td>Least busy</td>\n",
       "      <td>Most orders</td>\n",
       "      <td>10</td>\n",
       "      <td>New customer</td>\n",
       "      <td>6.367188</td>\n",
       "      <td>Low spender</td>\n",
       "      <td>20.5</td>\n",
       "      <td>Non-frequent customer</td>\n",
       "      <td>Female</td>\n",
       "      <td>Alabama</td>\n",
       "      <td>31</td>\n",
       "      <td>2/17/2019</td>\n",
       "      <td>3</td>\n",
       "      <td>married</td>\n",
       "      <td>40423</td>\n",
       "      <td>both</td>\n",
       "      <td>South</td>\n",
       "      <td>N</td>\n",
       "    </tr>\n",
       "    <tr>\n",
       "      <th>3</th>\n",
       "      <td>2254736</td>\n",
       "      <td>1</td>\n",
       "      <td>4</td>\n",
       "      <td>4</td>\n",
       "      <td>7</td>\n",
       "      <td>29.0</td>\n",
       "      <td>196</td>\n",
       "      <td>1</td>\n",
       "      <td>1</td>\n",
       "      <td>both</td>\n",
       "      <td>Soda</td>\n",
       "      <td>77</td>\n",
       "      <td>7</td>\n",
       "      <td>9.0</td>\n",
       "      <td>both</td>\n",
       "      <td>Mid-range product</td>\n",
       "      <td>Least busy</td>\n",
       "      <td>Least busy</td>\n",
       "      <td>Average orders</td>\n",
       "      <td>10</td>\n",
       "      <td>New customer</td>\n",
       "      <td>6.367188</td>\n",
       "      <td>Low spender</td>\n",
       "      <td>20.5</td>\n",
       "      <td>Non-frequent customer</td>\n",
       "      <td>Female</td>\n",
       "      <td>Alabama</td>\n",
       "      <td>31</td>\n",
       "      <td>2/17/2019</td>\n",
       "      <td>3</td>\n",
       "      <td>married</td>\n",
       "      <td>40423</td>\n",
       "      <td>both</td>\n",
       "      <td>South</td>\n",
       "      <td>N</td>\n",
       "    </tr>\n",
       "    <tr>\n",
       "      <th>4</th>\n",
       "      <td>431534</td>\n",
       "      <td>1</td>\n",
       "      <td>5</td>\n",
       "      <td>4</td>\n",
       "      <td>15</td>\n",
       "      <td>28.0</td>\n",
       "      <td>196</td>\n",
       "      <td>1</td>\n",
       "      <td>1</td>\n",
       "      <td>both</td>\n",
       "      <td>Soda</td>\n",
       "      <td>77</td>\n",
       "      <td>7</td>\n",
       "      <td>9.0</td>\n",
       "      <td>both</td>\n",
       "      <td>Mid-range product</td>\n",
       "      <td>Least busy</td>\n",
       "      <td>Least busy</td>\n",
       "      <td>Most orders</td>\n",
       "      <td>10</td>\n",
       "      <td>New customer</td>\n",
       "      <td>6.367188</td>\n",
       "      <td>Low spender</td>\n",
       "      <td>20.5</td>\n",
       "      <td>Non-frequent customer</td>\n",
       "      <td>Female</td>\n",
       "      <td>Alabama</td>\n",
       "      <td>31</td>\n",
       "      <td>2/17/2019</td>\n",
       "      <td>3</td>\n",
       "      <td>married</td>\n",
       "      <td>40423</td>\n",
       "      <td>both</td>\n",
       "      <td>South</td>\n",
       "      <td>N</td>\n",
       "    </tr>\n",
       "  </tbody>\n",
       "</table>\n",
       "</div>"
      ],
      "text/plain": [
       "   order_id  user_id  order_number  order_day_of_week  order_hour_of_day  \\\n",
       "0   2539329        1             1                  2                  8   \n",
       "1   2398795        1             2                  3                  7   \n",
       "2    473747        1             3                  3                 12   \n",
       "3   2254736        1             4                  4                  7   \n",
       "4    431534        1             5                  4                 15   \n",
       "\n",
       "   days_since_last_order  product_id  add_to_cart_order  reordered _merge  \\\n",
       "0                    NaN         196                  1          0   both   \n",
       "1                   15.0         196                  1          1   both   \n",
       "2                   21.0         196                  1          1   both   \n",
       "3                   29.0         196                  1          1   both   \n",
       "4                   28.0         196                  1          1   both   \n",
       "\n",
       "  product_name  aisle_id  department_id  prices _merge_2    price_range_loc  \\\n",
       "0         Soda        77              7     9.0     both  Mid-range product   \n",
       "1         Soda        77              7     9.0     both  Mid-range product   \n",
       "2         Soda        77              7     9.0     both  Mid-range product   \n",
       "3         Soda        77              7     9.0     both  Mid-range product   \n",
       "4         Soda        77              7     9.0     both  Mid-range product   \n",
       "\n",
       "      busiest_day    busiest_days busiest_period_of_day  max_order  \\\n",
       "0  Regularly busy  Regularly busy        Average orders         10   \n",
       "1  Regularly busy      Least busy        Average orders         10   \n",
       "2  Regularly busy      Least busy           Most orders         10   \n",
       "3      Least busy      Least busy        Average orders         10   \n",
       "4      Least busy      Least busy           Most orders         10   \n",
       "\n",
       "   loyalty_flag  avg_price   spend_flag  median_days_since_last_order  \\\n",
       "0  New customer   6.367188  Low spender                          20.5   \n",
       "1  New customer   6.367188  Low spender                          20.5   \n",
       "2  New customer   6.367188  Low spender                          20.5   \n",
       "3  New customer   6.367188  Low spender                          20.5   \n",
       "4  New customer   6.367188  Low spender                          20.5   \n",
       "\n",
       "         order_freq_flag  gender    state  age date_joined  dependants_count  \\\n",
       "0  Non-frequent customer  Female  Alabama   31   2/17/2019                 3   \n",
       "1  Non-frequent customer  Female  Alabama   31   2/17/2019                 3   \n",
       "2  Non-frequent customer  Female  Alabama   31   2/17/2019                 3   \n",
       "3  Non-frequent customer  Female  Alabama   31   2/17/2019                 3   \n",
       "4  Non-frequent customer  Female  Alabama   31   2/17/2019                 3   \n",
       "\n",
       "  fam_status  income _merge_3 region low_activity?  \n",
       "0    married   40423     both  South             N  \n",
       "1    married   40423     both  South             N  \n",
       "2    married   40423     both  South             N  \n",
       "3    married   40423     both  South             N  \n",
       "4    married   40423     both  South             N  "
      ]
     },
     "execution_count": 7,
     "metadata": {},
     "output_type": "execute_result"
    }
   ],
   "source": [
    "# Checking ords_prods_all to see all column names (for reference)\n",
    "ords_prods_all_flagged.head()"
   ]
  },
  {
   "cell_type": "markdown",
   "id": "b4e33785",
   "metadata": {},
   "source": [
    "## 2. (Step 5a) Create customer profiles"
   ]
  },
  {
   "cell_type": "markdown",
   "id": "37d032a3",
   "metadata": {},
   "source": [
    "I've created two umbrella customer profile categories to learn more about our customers:\n",
    "- Generation profiles\n",
    "- Income profiles"
   ]
  },
  {
   "cell_type": "markdown",
   "id": "5d1939e8",
   "metadata": {},
   "source": [
    "### Creating a generation profiles. "
   ]
  },
  {
   "cell_type": "code",
   "execution_count": 8,
   "id": "42e89dbb",
   "metadata": {},
   "outputs": [
    {
     "data": {
      "image/png": "[encoded data removed]",
      "text/plain": [
       "<Figure size 640x480 with 1 Axes>"
      ]
     },
     "metadata": {},
     "output_type": "display_data"
    }
   ],
   "source": [
    "# Histogram showing frequency of ages\n",
    "hist_ages = ords_prods_all_flagged['age'].plot.hist(bins = 65)"
   ]
  },
  {
   "cell_type": "code",
   "execution_count": 9,
   "id": "c52f9c57",
   "metadata": {},
   "outputs": [],
   "source": [
    "# Export histogram into project folder\n",
    "hist_ages.figure.savefig(os.path.join(path, '04 Analysis','Visualizations', 'hist_ages.png'))"
   ]
  },
  {
   "cell_type": "code",
   "execution_count": 10,
   "id": "5da70795",
   "metadata": {},
   "outputs": [],
   "source": [
    "result = []\n",
    "\n",
    "for value in ords_prods_all_flagged[\"age\"]:\n",
    "    if value <= 26:\n",
    "        result.append(\"Gen Z\")\n",
    "    elif value <= 42:\n",
    "        result.append(\"Mill\")\n",
    "    elif value <= 58:\n",
    "        result.append(\"Gen X\")\n",
    "    else:\n",
    "        result.append(\"Boom and older\")"
   ]
  },
  {
   "cell_type": "code",
   "execution_count": 11,
   "id": "1acdb3ba",
   "metadata": {},
   "outputs": [],
   "source": [
    "# Create new column called 'generation' within ords_prods_all dataframe and set it equal to result\n",
    "ords_prods_all_flagged['gen_flag'] = result"
   ]
  },
  {
   "cell_type": "code",
   "execution_count": 12,
   "id": "2a7672d7",
   "metadata": {},
   "outputs": [
    {
     "data": {
      "text/plain": [
       "Boom and older    11053462\n",
       "Gen X              7823298\n",
       "Mill               7729254\n",
       "Gen Z              4353673\n",
       "Name: gen_flag, dtype: int64"
      ]
     },
     "execution_count": 12,
     "metadata": {},
     "output_type": "execute_result"
    }
   ],
   "source": [
    "# Frequency of generations\n",
    "ords_prods_all_flagged['gen_flag'].value_counts()"
   ]
  },
  {
   "cell_type": "markdown",
   "id": "0ba62273",
   "metadata": {},
   "source": [
    "### Creating a income profiles. "
   ]
  },
  {
   "cell_type": "code",
   "execution_count": 13,
   "id": "cf74d614",
   "metadata": {},
   "outputs": [],
   "source": [
    "result = []\n",
    "\n",
    "for value in ords_prods_all_flagged[\"income\"]:\n",
    "    if value <= 52200:\n",
    "        result.append(\"Low Income\")\n",
    "    elif value <= 156600:\n",
    "        result.append(\"Middle Income\")\n",
    "    else:\n",
    "        result.append(\"Upper Income\")"
   ]
  },
  {
   "cell_type": "code",
   "execution_count": 14,
   "id": "8099e690",
   "metadata": {},
   "outputs": [],
   "source": [
    "# Create new column called 'income_class' within ords_prods_all dataframe and set it equal to result_1\n",
    "ords_prods_all_flagged['income_flag'] = result"
   ]
  },
  {
   "cell_type": "code",
   "execution_count": 15,
   "id": "469711d0",
   "metadata": {},
   "outputs": [
    {
     "data": {
      "text/plain": [
       "Middle Income    24539228\n",
       "Low Income        3692453\n",
       "Upper Income      2728006\n",
       "Name: income_flag, dtype: int64"
      ]
     },
     "execution_count": 15,
     "metadata": {},
     "output_type": "execute_result"
    }
   ],
   "source": [
    "# Frequency of income groups\n",
    "ords_prods_all_flagged['income_flag'].value_counts()"
   ]
  },
  {
   "cell_type": "markdown",
   "id": "791f2677",
   "metadata": {},
   "source": [
    "## 3. (5b) Create flag for non-food and non-beverage departments"
   ]
  },
  {
   "cell_type": "markdown",
   "id": "53445e12",
   "metadata": {},
   "source": [
    "Together with the customer profiles, I can use this flag to help determine how customers are using Instacart. Are they using Instacart for only traditional grocery items? Is there an opportunity to advertise for other items such as personal care, pet care, household items, and baby items?"
   ]
  },
  {
   "cell_type": "code",
   "execution_count": 16,
   "id": "9fc3caa2",
   "metadata": {},
   "outputs": [],
   "source": [
    "result = []\n",
    "\n",
    "for value in ords_prods_all_flagged[\"department_id\"]:\n",
    "    if value == 2:\n",
    "        result.append(\"N\")\n",
    "    elif value == 8:\n",
    "        result.append(\"N\")\n",
    "    elif value == 11:\n",
    "        result.append(\"N\")\n",
    "    elif value == 17:\n",
    "        result.append(\"N\")\n",
    "    elif value == 18:\n",
    "        result.append(\"N\")\n",
    "    else:\n",
    "        result.append(\"Y\")"
   ]
  },
  {
   "cell_type": "code",
   "execution_count": 17,
   "id": "d086c164",
   "metadata": {},
   "outputs": [],
   "source": [
    "# Create new column called 'food_bev?' within ords_prods_all dataframe and set it equal to result_1\n",
    "ords_prods_all_flagged['food_bev?'] = result"
   ]
  },
  {
   "cell_type": "code",
   "execution_count": 18,
   "id": "76adf107",
   "metadata": {},
   "outputs": [
    {
     "data": {
      "text/plain": [
       "Y    29297661\n",
       "N     1662026\n",
       "Name: food_bev?, dtype: int64"
      ]
     },
     "execution_count": 18,
     "metadata": {},
     "output_type": "execute_result"
    }
   ],
   "source": [
    "# Frequency of non-food and non-beverage orders ('food_bev?')\n",
    "ords_prods_all_flagged['food_bev?'].value_counts()"
   ]
  },
  {
   "cell_type": "code",
   "execution_count": 19,
   "id": "4eef3aae",
   "metadata": {},
   "outputs": [],
   "source": [
    "df_non_food = ords_prods_all_flagged[ords_prods_all_flagged['food_bev?']== 'N']"
   ]
  },
  {
   "cell_type": "code",
   "execution_count": 20,
   "id": "050d9fb5",
   "metadata": {},
   "outputs": [
    {
     "data": {
      "text/plain": [
       "17    699857\n",
       "11    424306\n",
       "18    410392\n",
       "8      93060\n",
       "2      34411\n",
       "Name: department_id, dtype: int64"
      ]
     },
     "execution_count": 20,
     "metadata": {},
     "output_type": "execute_result"
    }
   ],
   "source": [
    "# Frequency of departments in non-food and non-bev df \n",
    "df_non_food['department_id'].value_counts()"
   ]
  },
  {
   "cell_type": "markdown",
   "id": "606f0826",
   "metadata": {},
   "source": [
    "## 4. (Step 6) Create visualizations to show the distribution of profiles"
   ]
  },
  {
   "cell_type": "markdown",
   "id": "682c45f0",
   "metadata": {},
   "source": [
    "### (a) Generation profiles"
   ]
  },
  {
   "cell_type": "code",
   "execution_count": 21,
   "id": "9aad5b4a",
   "metadata": {},
   "outputs": [
    {
     "data": {
      "text/html": [
       "<div>\n",
       "<style scoped>\n",
       "    .dataframe tbody tr th:only-of-type {\n",
       "        vertical-align: middle;\n",
       "    }\n",
       "\n",
       "    .dataframe tbody tr th {\n",
       "        vertical-align: top;\n",
       "    }\n",
       "\n",
       "    .dataframe thead th {\n",
       "        text-align: right;\n",
       "    }\n",
       "</style>\n",
       "<table border=\"1\" class=\"dataframe\">\n",
       "  <thead>\n",
       "    <tr style=\"text-align: right;\">\n",
       "      <th></th>\n",
       "      <th>count</th>\n",
       "      <th>mean</th>\n",
       "      <th>std</th>\n",
       "      <th>min</th>\n",
       "      <th>25%</th>\n",
       "      <th>50%</th>\n",
       "      <th>75%</th>\n",
       "      <th>max</th>\n",
       "    </tr>\n",
       "    <tr>\n",
       "      <th>gen_flag</th>\n",
       "      <th></th>\n",
       "      <th></th>\n",
       "      <th></th>\n",
       "      <th></th>\n",
       "      <th></th>\n",
       "      <th></th>\n",
       "      <th></th>\n",
       "      <th></th>\n",
       "    </tr>\n",
       "  </thead>\n",
       "  <tbody>\n",
       "    <tr>\n",
       "      <th>Boom and older</th>\n",
       "      <td>11053462.0</td>\n",
       "      <td>70.079438</td>\n",
       "      <td>6.631902</td>\n",
       "      <td>59.0</td>\n",
       "      <td>64.0</td>\n",
       "      <td>70.0</td>\n",
       "      <td>76.0</td>\n",
       "      <td>81.0</td>\n",
       "    </tr>\n",
       "    <tr>\n",
       "      <th>Gen X</th>\n",
       "      <td>7823298.0</td>\n",
       "      <td>50.470723</td>\n",
       "      <td>4.607860</td>\n",
       "      <td>43.0</td>\n",
       "      <td>47.0</td>\n",
       "      <td>50.0</td>\n",
       "      <td>54.0</td>\n",
       "      <td>58.0</td>\n",
       "    </tr>\n",
       "    <tr>\n",
       "      <th>Gen Z</th>\n",
       "      <td>4353673.0</td>\n",
       "      <td>21.982510</td>\n",
       "      <td>2.574204</td>\n",
       "      <td>18.0</td>\n",
       "      <td>20.0</td>\n",
       "      <td>22.0</td>\n",
       "      <td>24.0</td>\n",
       "      <td>26.0</td>\n",
       "    </tr>\n",
       "    <tr>\n",
       "      <th>Mill</th>\n",
       "      <td>7729254.0</td>\n",
       "      <td>34.458980</td>\n",
       "      <td>4.607446</td>\n",
       "      <td>27.0</td>\n",
       "      <td>30.0</td>\n",
       "      <td>34.0</td>\n",
       "      <td>38.0</td>\n",
       "      <td>42.0</td>\n",
       "    </tr>\n",
       "  </tbody>\n",
       "</table>\n",
       "</div>"
      ],
      "text/plain": [
       "                     count       mean       std   min   25%   50%   75%   max\n",
       "gen_flag                                                                     \n",
       "Boom and older  11053462.0  70.079438  6.631902  59.0  64.0  70.0  76.0  81.0\n",
       "Gen X            7823298.0  50.470723  4.607860  43.0  47.0  50.0  54.0  58.0\n",
       "Gen Z            4353673.0  21.982510  2.574204  18.0  20.0  22.0  24.0  26.0\n",
       "Mill             7729254.0  34.458980  4.607446  27.0  30.0  34.0  38.0  42.0"
      ]
     },
     "execution_count": 21,
     "metadata": {},
     "output_type": "execute_result"
    }
   ],
   "source": [
    "ords_prods_all_flagged.groupby('gen_flag')['age'].describe()"
   ]
  },
  {
   "cell_type": "code",
   "execution_count": 22,
   "id": "6051433c",
   "metadata": {},
   "outputs": [
    {
     "data": {
      "image/png": "[encoded data removed]",
      "text/plain": [
       "<Figure size 640x480 with 1 Axes>"
      ]
     },
     "metadata": {},
     "output_type": "display_data"
    }
   ],
   "source": [
    "# Frequency of generations ('gen_flag')\n",
    "bar_generations = ords_prods_all_flagged['gen_flag'].value_counts().plot.bar()"
   ]
  },
  {
   "cell_type": "code",
   "execution_count": 23,
   "id": "171f0b0e",
   "metadata": {},
   "outputs": [],
   "source": [
    "# Export bar chart into project folder\n",
    "bar_generations.figure.savefig(os.path.join(path, '04 Analysis','Visualizations', 'bar_generations.png'))"
   ]
  },
  {
   "cell_type": "markdown",
   "id": "4fcdbb07",
   "metadata": {},
   "source": [
    "### (b) Income profiles"
   ]
  },
  {
   "cell_type": "code",
   "execution_count": 24,
   "id": "da222c95",
   "metadata": {},
   "outputs": [
    {
     "data": {
      "text/html": [
       "<div>\n",
       "<style scoped>\n",
       "    .dataframe tbody tr th:only-of-type {\n",
       "        vertical-align: middle;\n",
       "    }\n",
       "\n",
       "    .dataframe tbody tr th {\n",
       "        vertical-align: top;\n",
       "    }\n",
       "\n",
       "    .dataframe thead th {\n",
       "        text-align: right;\n",
       "    }\n",
       "</style>\n",
       "<table border=\"1\" class=\"dataframe\">\n",
       "  <thead>\n",
       "    <tr style=\"text-align: right;\">\n",
       "      <th></th>\n",
       "      <th>count</th>\n",
       "      <th>mean</th>\n",
       "      <th>std</th>\n",
       "      <th>min</th>\n",
       "      <th>25%</th>\n",
       "      <th>50%</th>\n",
       "      <th>75%</th>\n",
       "      <th>max</th>\n",
       "    </tr>\n",
       "    <tr>\n",
       "      <th>income_flag</th>\n",
       "      <th></th>\n",
       "      <th></th>\n",
       "      <th></th>\n",
       "      <th></th>\n",
       "      <th></th>\n",
       "      <th></th>\n",
       "      <th></th>\n",
       "      <th></th>\n",
       "    </tr>\n",
       "  </thead>\n",
       "  <tbody>\n",
       "    <tr>\n",
       "      <th>Low Income</th>\n",
       "      <td>3692453.0</td>\n",
       "      <td>40839.672374</td>\n",
       "      <td>6753.598420</td>\n",
       "      <td>25903.0</td>\n",
       "      <td>35200.0</td>\n",
       "      <td>41612.0</td>\n",
       "      <td>46391.0</td>\n",
       "      <td>52200.0</td>\n",
       "    </tr>\n",
       "    <tr>\n",
       "      <th>Middle Income</th>\n",
       "      <td>24539228.0</td>\n",
       "      <td>99834.316587</td>\n",
       "      <td>28827.126724</td>\n",
       "      <td>52201.0</td>\n",
       "      <td>74720.0</td>\n",
       "      <td>97987.0</td>\n",
       "      <td>121730.0</td>\n",
       "      <td>156600.0</td>\n",
       "    </tr>\n",
       "    <tr>\n",
       "      <th>Upper Income</th>\n",
       "      <td>2728006.0</td>\n",
       "      <td>177650.879211</td>\n",
       "      <td>52636.614366</td>\n",
       "      <td>156602.0</td>\n",
       "      <td>160438.0</td>\n",
       "      <td>164118.0</td>\n",
       "      <td>167870.0</td>\n",
       "      <td>593901.0</td>\n",
       "    </tr>\n",
       "  </tbody>\n",
       "</table>\n",
       "</div>"
      ],
      "text/plain": [
       "                    count           mean           std       min       25%  \\\n",
       "income_flag                                                                  \n",
       "Low Income      3692453.0   40839.672374   6753.598420   25903.0   35200.0   \n",
       "Middle Income  24539228.0   99834.316587  28827.126724   52201.0   74720.0   \n",
       "Upper Income    2728006.0  177650.879211  52636.614366  156602.0  160438.0   \n",
       "\n",
       "                    50%       75%       max  \n",
       "income_flag                                  \n",
       "Low Income      41612.0   46391.0   52200.0  \n",
       "Middle Income   97987.0  121730.0  156600.0  \n",
       "Upper Income   164118.0  167870.0  593901.0  "
      ]
     },
     "execution_count": 24,
     "metadata": {},
     "output_type": "execute_result"
    }
   ],
   "source": [
    "ords_prods_all_flagged.groupby('income_flag')['income'].describe()"
   ]
  },
  {
   "cell_type": "code",
   "execution_count": 25,
   "id": "3209ad96",
   "metadata": {},
   "outputs": [
    {
     "data": {
      "image/png": "[encoded data removed]",
      "text/plain": [
       "<Figure size 640x480 with 1 Axes>"
      ]
     },
     "metadata": {},
     "output_type": "display_data"
    }
   ],
   "source": [
    "# Frequency of income groups ('income_class')\n",
    "bar_income = ords_prods_all_flagged['income_flag'].value_counts().plot.bar()"
   ]
  },
  {
   "cell_type": "code",
   "execution_count": 26,
   "id": "739e6cdb",
   "metadata": {},
   "outputs": [],
   "source": [
    "# Export bar chart into project folder\n",
    "bar_income.figure.savefig(os.path.join(path, '04 Analysis','Visualizations', 'bar_income.png'))"
   ]
  },
  {
   "cell_type": "markdown",
   "id": "ef79f501",
   "metadata": {},
   "source": [
    "## 5. (Step 7) Aggregate max, min, and mean variables on a customer-profile level for usage frequency ('order_freq_flag') and expenditure ('spend_flag')."
   ]
  },
  {
   "cell_type": "markdown",
   "id": "7cc56fc9",
   "metadata": {},
   "source": [
    "### Generation Profiles:"
   ]
  },
  {
   "cell_type": "code",
   "execution_count": 27,
   "id": "8991f083",
   "metadata": {},
   "outputs": [
    {
     "data": {
      "text/html": [
       "<div>\n",
       "<style scoped>\n",
       "    .dataframe tbody tr th:only-of-type {\n",
       "        vertical-align: middle;\n",
       "    }\n",
       "\n",
       "    .dataframe tbody tr th {\n",
       "        vertical-align: top;\n",
       "    }\n",
       "\n",
       "    .dataframe thead tr th {\n",
       "        text-align: left;\n",
       "    }\n",
       "\n",
       "    .dataframe thead tr:last-of-type th {\n",
       "        text-align: right;\n",
       "    }\n",
       "</style>\n",
       "<table border=\"1\" class=\"dataframe\">\n",
       "  <thead>\n",
       "    <tr>\n",
       "      <th></th>\n",
       "      <th colspan=\"3\" halign=\"left\">max_order</th>\n",
       "    </tr>\n",
       "    <tr>\n",
       "      <th></th>\n",
       "      <th>mean</th>\n",
       "      <th>min</th>\n",
       "      <th>max</th>\n",
       "    </tr>\n",
       "    <tr>\n",
       "      <th>gen_flag</th>\n",
       "      <th></th>\n",
       "      <th></th>\n",
       "      <th></th>\n",
       "    </tr>\n",
       "  </thead>\n",
       "  <tbody>\n",
       "    <tr>\n",
       "      <th>Boom and older</th>\n",
       "      <td>34.360929</td>\n",
       "      <td>5</td>\n",
       "      <td>99</td>\n",
       "    </tr>\n",
       "    <tr>\n",
       "      <th>Gen X</th>\n",
       "      <td>34.403995</td>\n",
       "      <td>5</td>\n",
       "      <td>99</td>\n",
       "    </tr>\n",
       "    <tr>\n",
       "      <th>Gen Z</th>\n",
       "      <td>34.480140</td>\n",
       "      <td>5</td>\n",
       "      <td>99</td>\n",
       "    </tr>\n",
       "    <tr>\n",
       "      <th>Mill</th>\n",
       "      <td>34.511657</td>\n",
       "      <td>5</td>\n",
       "      <td>99</td>\n",
       "    </tr>\n",
       "  </tbody>\n",
       "</table>\n",
       "</div>"
      ],
      "text/plain": [
       "                max_order        \n",
       "                     mean min max\n",
       "gen_flag                         \n",
       "Boom and older  34.360929   5  99\n",
       "Gen X           34.403995   5  99\n",
       "Gen Z           34.480140   5  99\n",
       "Mill            34.511657   5  99"
      ]
     },
     "execution_count": 27,
     "metadata": {},
     "output_type": "execute_result"
    }
   ],
   "source": [
    "ords_prods_all_flagged.groupby('gen_flag').agg({'max_order': ['mean', 'min', 'max']})"
   ]
  },
  {
   "cell_type": "code",
   "execution_count": 28,
   "id": "0560fef8",
   "metadata": {},
   "outputs": [
    {
     "data": {
      "text/html": [
       "<div>\n",
       "<style scoped>\n",
       "    .dataframe tbody tr th:only-of-type {\n",
       "        vertical-align: middle;\n",
       "    }\n",
       "\n",
       "    .dataframe tbody tr th {\n",
       "        vertical-align: top;\n",
       "    }\n",
       "\n",
       "    .dataframe thead tr th {\n",
       "        text-align: left;\n",
       "    }\n",
       "\n",
       "    .dataframe thead tr:last-of-type th {\n",
       "        text-align: right;\n",
       "    }\n",
       "</style>\n",
       "<table border=\"1\" class=\"dataframe\">\n",
       "  <thead>\n",
       "    <tr>\n",
       "      <th></th>\n",
       "      <th colspan=\"3\" halign=\"left\">avg_price</th>\n",
       "    </tr>\n",
       "    <tr>\n",
       "      <th></th>\n",
       "      <th>mean</th>\n",
       "      <th>min</th>\n",
       "      <th>max</th>\n",
       "    </tr>\n",
       "    <tr>\n",
       "      <th>gen_flag</th>\n",
       "      <th></th>\n",
       "      <th></th>\n",
       "      <th></th>\n",
       "    </tr>\n",
       "  </thead>\n",
       "  <tbody>\n",
       "    <tr>\n",
       "      <th>Boom and older</th>\n",
       "      <td>7.796875</td>\n",
       "      <td>1.262695</td>\n",
       "      <td>19.406250</td>\n",
       "    </tr>\n",
       "    <tr>\n",
       "      <th>Gen X</th>\n",
       "      <td>7.789062</td>\n",
       "      <td>1.000000</td>\n",
       "      <td>20.109375</td>\n",
       "    </tr>\n",
       "    <tr>\n",
       "      <th>Gen Z</th>\n",
       "      <td>7.785156</td>\n",
       "      <td>2.000000</td>\n",
       "      <td>14.898438</td>\n",
       "    </tr>\n",
       "    <tr>\n",
       "      <th>Mill</th>\n",
       "      <td>7.789062</td>\n",
       "      <td>1.000000</td>\n",
       "      <td>18.234375</td>\n",
       "    </tr>\n",
       "  </tbody>\n",
       "</table>\n",
       "</div>"
      ],
      "text/plain": [
       "               avg_price                     \n",
       "                    mean       min        max\n",
       "gen_flag                                     \n",
       "Boom and older  7.796875  1.262695  19.406250\n",
       "Gen X           7.789062  1.000000  20.109375\n",
       "Gen Z           7.785156  2.000000  14.898438\n",
       "Mill            7.789062  1.000000  18.234375"
      ]
     },
     "execution_count": 28,
     "metadata": {},
     "output_type": "execute_result"
    }
   ],
   "source": [
    "ords_prods_all_flagged.groupby('gen_flag').agg({'avg_price': ['mean', 'min', 'max']})"
   ]
  },
  {
   "cell_type": "code",
   "execution_count": 29,
   "id": "45aa05e7",
   "metadata": {},
   "outputs": [
    {
     "data": {
      "text/html": [
       "<div>\n",
       "<style scoped>\n",
       "    .dataframe tbody tr th:only-of-type {\n",
       "        vertical-align: middle;\n",
       "    }\n",
       "\n",
       "    .dataframe tbody tr th {\n",
       "        vertical-align: top;\n",
       "    }\n",
       "\n",
       "    .dataframe thead tr th {\n",
       "        text-align: left;\n",
       "    }\n",
       "\n",
       "    .dataframe thead tr:last-of-type th {\n",
       "        text-align: right;\n",
       "    }\n",
       "</style>\n",
       "<table border=\"1\" class=\"dataframe\">\n",
       "  <thead>\n",
       "    <tr>\n",
       "      <th></th>\n",
       "      <th colspan=\"3\" halign=\"left\">median_days_since_last_order</th>\n",
       "    </tr>\n",
       "    <tr>\n",
       "      <th></th>\n",
       "      <th>mean</th>\n",
       "      <th>min</th>\n",
       "      <th>max</th>\n",
       "    </tr>\n",
       "    <tr>\n",
       "      <th>gen_flag</th>\n",
       "      <th></th>\n",
       "      <th></th>\n",
       "      <th></th>\n",
       "    </tr>\n",
       "  </thead>\n",
       "  <tbody>\n",
       "    <tr>\n",
       "      <th>Boom and older</th>\n",
       "      <td>9.953125</td>\n",
       "      <td>0.0</td>\n",
       "      <td>30.0</td>\n",
       "    </tr>\n",
       "    <tr>\n",
       "      <th>Gen X</th>\n",
       "      <td>9.976562</td>\n",
       "      <td>0.0</td>\n",
       "      <td>30.0</td>\n",
       "    </tr>\n",
       "    <tr>\n",
       "      <th>Gen Z</th>\n",
       "      <td>9.945312</td>\n",
       "      <td>0.0</td>\n",
       "      <td>30.0</td>\n",
       "    </tr>\n",
       "    <tr>\n",
       "      <th>Mill</th>\n",
       "      <td>9.945312</td>\n",
       "      <td>0.0</td>\n",
       "      <td>30.0</td>\n",
       "    </tr>\n",
       "  </tbody>\n",
       "</table>\n",
       "</div>"
      ],
      "text/plain": [
       "               median_days_since_last_order           \n",
       "                                       mean  min   max\n",
       "gen_flag                                              \n",
       "Boom and older                     9.953125  0.0  30.0\n",
       "Gen X                              9.976562  0.0  30.0\n",
       "Gen Z                              9.945312  0.0  30.0\n",
       "Mill                               9.945312  0.0  30.0"
      ]
     },
     "execution_count": 29,
     "metadata": {},
     "output_type": "execute_result"
    }
   ],
   "source": [
    "ords_prods_all_flagged.groupby('gen_flag').agg({'median_days_since_last_order': ['mean', 'min', 'max']})"
   ]
  },
  {
   "cell_type": "markdown",
   "id": "33bd2c83",
   "metadata": {},
   "source": [
    "### Income Profiles:"
   ]
  },
  {
   "cell_type": "code",
   "execution_count": 30,
   "id": "72d5444d",
   "metadata": {},
   "outputs": [
    {
     "data": {
      "text/html": [
       "<div>\n",
       "<style scoped>\n",
       "    .dataframe tbody tr th:only-of-type {\n",
       "        vertical-align: middle;\n",
       "    }\n",
       "\n",
       "    .dataframe tbody tr th {\n",
       "        vertical-align: top;\n",
       "    }\n",
       "\n",
       "    .dataframe thead tr th {\n",
       "        text-align: left;\n",
       "    }\n",
       "\n",
       "    .dataframe thead tr:last-of-type th {\n",
       "        text-align: right;\n",
       "    }\n",
       "</style>\n",
       "<table border=\"1\" class=\"dataframe\">\n",
       "  <thead>\n",
       "    <tr>\n",
       "      <th></th>\n",
       "      <th colspan=\"3\" halign=\"left\">max_order</th>\n",
       "    </tr>\n",
       "    <tr>\n",
       "      <th></th>\n",
       "      <th>mean</th>\n",
       "      <th>min</th>\n",
       "      <th>max</th>\n",
       "    </tr>\n",
       "    <tr>\n",
       "      <th>income_flag</th>\n",
       "      <th></th>\n",
       "      <th></th>\n",
       "      <th></th>\n",
       "    </tr>\n",
       "  </thead>\n",
       "  <tbody>\n",
       "    <tr>\n",
       "      <th>Low Income</th>\n",
       "      <td>32.526219</td>\n",
       "      <td>5</td>\n",
       "      <td>99</td>\n",
       "    </tr>\n",
       "    <tr>\n",
       "      <th>Middle Income</th>\n",
       "      <td>34.637120</td>\n",
       "      <td>5</td>\n",
       "      <td>99</td>\n",
       "    </tr>\n",
       "    <tr>\n",
       "      <th>Upper Income</th>\n",
       "      <td>35.100666</td>\n",
       "      <td>5</td>\n",
       "      <td>99</td>\n",
       "    </tr>\n",
       "  </tbody>\n",
       "</table>\n",
       "</div>"
      ],
      "text/plain": [
       "               max_order        \n",
       "                    mean min max\n",
       "income_flag                     \n",
       "Low Income     32.526219   5  99\n",
       "Middle Income  34.637120   5  99\n",
       "Upper Income   35.100666   5  99"
      ]
     },
     "execution_count": 30,
     "metadata": {},
     "output_type": "execute_result"
    }
   ],
   "source": [
    "ords_prods_all_flagged.groupby('income_flag').agg({'max_order': ['mean', 'min', 'max']})"
   ]
  },
  {
   "cell_type": "code",
   "execution_count": 31,
   "id": "0ceb8f99",
   "metadata": {},
   "outputs": [
    {
     "data": {
      "text/html": [
       "<div>\n",
       "<style scoped>\n",
       "    .dataframe tbody tr th:only-of-type {\n",
       "        vertical-align: middle;\n",
       "    }\n",
       "\n",
       "    .dataframe tbody tr th {\n",
       "        vertical-align: top;\n",
       "    }\n",
       "\n",
       "    .dataframe thead tr th {\n",
       "        text-align: left;\n",
       "    }\n",
       "\n",
       "    .dataframe thead tr:last-of-type th {\n",
       "        text-align: right;\n",
       "    }\n",
       "</style>\n",
       "<table border=\"1\" class=\"dataframe\">\n",
       "  <thead>\n",
       "    <tr>\n",
       "      <th></th>\n",
       "      <th colspan=\"3\" halign=\"left\">avg_price</th>\n",
       "    </tr>\n",
       "    <tr>\n",
       "      <th></th>\n",
       "      <th>mean</th>\n",
       "      <th>min</th>\n",
       "      <th>max</th>\n",
       "    </tr>\n",
       "    <tr>\n",
       "      <th>income_flag</th>\n",
       "      <th></th>\n",
       "      <th></th>\n",
       "      <th></th>\n",
       "    </tr>\n",
       "  </thead>\n",
       "  <tbody>\n",
       "    <tr>\n",
       "      <th>Low Income</th>\n",
       "      <td>6.765625</td>\n",
       "      <td>1.000000</td>\n",
       "      <td>13.875000</td>\n",
       "    </tr>\n",
       "    <tr>\n",
       "      <th>Middle Income</th>\n",
       "      <td>7.929688</td>\n",
       "      <td>1.299805</td>\n",
       "      <td>19.406250</td>\n",
       "    </tr>\n",
       "    <tr>\n",
       "      <th>Upper Income</th>\n",
       "      <td>7.937500</td>\n",
       "      <td>4.371094</td>\n",
       "      <td>20.109375</td>\n",
       "    </tr>\n",
       "  </tbody>\n",
       "</table>\n",
       "</div>"
      ],
      "text/plain": [
       "              avg_price                     \n",
       "                   mean       min        max\n",
       "income_flag                                 \n",
       "Low Income     6.765625  1.000000  13.875000\n",
       "Middle Income  7.929688  1.299805  19.406250\n",
       "Upper Income   7.937500  4.371094  20.109375"
      ]
     },
     "execution_count": 31,
     "metadata": {},
     "output_type": "execute_result"
    }
   ],
   "source": [
    "ords_prods_all_flagged.groupby('income_flag').agg({'avg_price': ['mean', 'min', 'max']})"
   ]
  },
  {
   "cell_type": "code",
   "execution_count": 32,
   "id": "50324b93",
   "metadata": {},
   "outputs": [
    {
     "data": {
      "text/html": [
       "<div>\n",
       "<style scoped>\n",
       "    .dataframe tbody tr th:only-of-type {\n",
       "        vertical-align: middle;\n",
       "    }\n",
       "\n",
       "    .dataframe tbody tr th {\n",
       "        vertical-align: top;\n",
       "    }\n",
       "\n",
       "    .dataframe thead tr th {\n",
       "        text-align: left;\n",
       "    }\n",
       "\n",
       "    .dataframe thead tr:last-of-type th {\n",
       "        text-align: right;\n",
       "    }\n",
       "</style>\n",
       "<table border=\"1\" class=\"dataframe\">\n",
       "  <thead>\n",
       "    <tr>\n",
       "      <th></th>\n",
       "      <th colspan=\"3\" halign=\"left\">median_days_since_last_order</th>\n",
       "    </tr>\n",
       "    <tr>\n",
       "      <th></th>\n",
       "      <th>mean</th>\n",
       "      <th>min</th>\n",
       "      <th>max</th>\n",
       "    </tr>\n",
       "    <tr>\n",
       "      <th>income_flag</th>\n",
       "      <th></th>\n",
       "      <th></th>\n",
       "      <th></th>\n",
       "    </tr>\n",
       "  </thead>\n",
       "  <tbody>\n",
       "    <tr>\n",
       "      <th>Low Income</th>\n",
       "      <td>10.476562</td>\n",
       "      <td>0.0</td>\n",
       "      <td>30.0</td>\n",
       "    </tr>\n",
       "    <tr>\n",
       "      <th>Middle Income</th>\n",
       "      <td>9.898438</td>\n",
       "      <td>0.0</td>\n",
       "      <td>30.0</td>\n",
       "    </tr>\n",
       "    <tr>\n",
       "      <th>Upper Income</th>\n",
       "      <td>9.765625</td>\n",
       "      <td>0.0</td>\n",
       "      <td>30.0</td>\n",
       "    </tr>\n",
       "  </tbody>\n",
       "</table>\n",
       "</div>"
      ],
      "text/plain": [
       "              median_days_since_last_order           \n",
       "                                      mean  min   max\n",
       "income_flag                                          \n",
       "Low Income                       10.476562  0.0  30.0\n",
       "Middle Income                     9.898438  0.0  30.0\n",
       "Upper Income                      9.765625  0.0  30.0"
      ]
     },
     "execution_count": 32,
     "metadata": {},
     "output_type": "execute_result"
    }
   ],
   "source": [
    "ords_prods_all_flagged.groupby('income_flag').agg({'median_days_since_last_order': ['mean', 'min', 'max']})"
   ]
  },
  {
   "cell_type": "markdown",
   "id": "2a4d01a8",
   "metadata": {},
   "source": [
    "## 6. Exporting file as \"orders_products_all_flagged_2.pkl\""
   ]
  },
  {
   "cell_type": "code",
   "execution_count": 33,
   "id": "5646c6a5",
   "metadata": {},
   "outputs": [
    {
     "name": "stdout",
     "output_type": "stream",
     "text": [
      "<class 'pandas.core.frame.DataFrame'>\n",
      "Int64Index: 30959687 entries, 0 to 32399727\n",
      "Data columns (total 38 columns):\n",
      " #   Column                        Dtype   \n",
      "---  ------                        -----   \n",
      " 0   order_id                      int32   \n",
      " 1   user_id                       int32   \n",
      " 2   order_number                  int8    \n",
      " 3   order_day_of_week             int8    \n",
      " 4   order_hour_of_day             int8    \n",
      " 5   days_since_last_order         float16 \n",
      " 6   product_id                    int32   \n",
      " 7   add_to_cart_order             int32   \n",
      " 8   reordered                     int8    \n",
      " 9   _merge                        category\n",
      " 10  product_name                  object  \n",
      " 11  aisle_id                      int8    \n",
      " 12  department_id                 int8    \n",
      " 13  prices                        float16 \n",
      " 14  _merge_2                      category\n",
      " 15  price_range_loc               object  \n",
      " 16  busiest_day                   object  \n",
      " 17  busiest_days                  object  \n",
      " 18  busiest_period_of_day         object  \n",
      " 19  max_order                     int8    \n",
      " 20  loyalty_flag                  object  \n",
      " 21  avg_price                     float16 \n",
      " 22  spend_flag                    object  \n",
      " 23  median_days_since_last_order  float16 \n",
      " 24  order_freq_flag               object  \n",
      " 25  gender                        object  \n",
      " 26  state                         object  \n",
      " 27  age                           int8    \n",
      " 28  date_joined                   object  \n",
      " 29  dependants_count              int8    \n",
      " 30  fam_status                    object  \n",
      " 31  income                        int64   \n",
      " 32  _merge_3                      category\n",
      " 33  region                        object  \n",
      " 34  low_activity?                 object  \n",
      " 35  gen_flag                      object  \n",
      " 36  income_flag                   object  \n",
      " 37  food_bev?                     object  \n",
      "dtypes: category(3), float16(4), int32(4), int64(1), int8(9), object(17)\n",
      "memory usage: 5.4+ GB\n"
     ]
    }
   ],
   "source": [
    "ords_prods_all_flagged.info()"
   ]
  },
  {
   "cell_type": "code",
   "execution_count": 34,
   "id": "4db92c8e",
   "metadata": {},
   "outputs": [],
   "source": [
    "# Export flagged data to pkl\n",
    "ords_prods_all_flagged.to_pickle(os.path.join(path, '02 Data','Prepared Data', 'orders_products_all_flagged_2.pkl'))"
   ]
  }
 ],
 "metadata": {
  "kernelspec": {
   "display_name": "Python 3 (ipykernel)",
   "language": "python",
   "name": "python3"
  },
  "language_info": {
   "codemirror_mode": {
    "name": "ipython",
    "version": 3
   },
   "file_extension": ".py",
   "mimetype": "text/x-python",
   "name": "python",
   "nbconvert_exporter": "python",
   "pygments_lexer": "ipython3",
   "version": "3.9.13"
  }
 },
 "nbformat": 4,
 "nbformat_minor": 5
}
