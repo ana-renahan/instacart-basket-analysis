{
 "cells": [
  {
   "cell_type": "markdown",
   "id": "cf33a395",
   "metadata": {},
   "source": [
    "### This script contains the following points:\n",
    "#### 1. Creating \"price_label\" and \"busiest_day\" columns in 'df_ords_prods_merged'\n",
    "#### 2. Createing \"busiest_days\" column in 'df_ords_prods_merged' (to show indicate two busiest days and two slowest days)\n",
    "#### 3. Checking \"busiest_days\" column (frequency and accuracy)\n",
    "#### 4. Creating \"busiest_period_of_day\" in 'df_ords_prods_merged' (to show ranges of busiest times)\n",
    "#### 5. Checking \"busiest_period_of_day\" column (frequency and accuracy)\n",
    "#### 6. Exporing dataframe as 'orders_products_merged_2.pkl'"
   ]
  },
  {
   "cell_type": "markdown",
   "id": "1a41bd09",
   "metadata": {},
   "source": [
    "# Exercise 4.7 Prep-Work (Step 1)"
   ]
  },
  {
   "cell_type": "markdown",
   "id": "923c5021",
   "metadata": {},
   "source": [
    "## Step 1.1. Importing Libraries, Defining Project Path, and Importing Datasets"
   ]
  },
  {
   "cell_type": "code",
   "execution_count": 1,
   "id": "1c645a6f",
   "metadata": {},
   "outputs": [],
   "source": [
    "# Importing pandas, numpy, and os\n",
    "import pandas as pd\n",
    "import numpy as np\n",
    "import os"
   ]
  },
  {
   "cell_type": "code",
   "execution_count": 2,
   "id": "050f6110",
   "metadata": {},
   "outputs": [],
   "source": [
    "# Defining project folder path\n",
    "path = r'C:\\Users\\prena\\03-2023 Instacart Basket Analysis'"
   ]
  },
  {
   "cell_type": "code",
   "execution_count": 3,
   "id": "6ff1d48d",
   "metadata": {},
   "outputs": [],
   "source": [
    "# Importing orders_products_combined.pkl dataset\n",
    "df_ords_prods_merged = pd.read_pickle(os.path.join(path, '02 Data', 'Prepared Data', 'orders_products_merged.pkl'))"
   ]
  },
  {
   "cell_type": "markdown",
   "id": "5206f4bc",
   "metadata": {},
   "source": [
    "## Step 1.2. Create smaller subset to work with (1,000,000 rows)"
   ]
  },
  {
   "cell_type": "code",
   "execution_count": 4,
   "id": "798a89f4",
   "metadata": {},
   "outputs": [],
   "source": [
    "# Create a subset of 1,000,000 rows\n",
    "df = df_ords_prods_merged[:1000000]"
   ]
  },
  {
   "cell_type": "code",
   "execution_count": 5,
   "id": "869908b6",
   "metadata": {},
   "outputs": [
    {
     "data": {
      "text/plain": [
       "(1000000, 15)"
      ]
     },
     "execution_count": 5,
     "metadata": {},
     "output_type": "execute_result"
    }
   ],
   "source": [
    "df.shape"
   ]
  },
  {
   "cell_type": "markdown",
   "id": "2e1d9d9c",
   "metadata": {},
   "source": [
    "## Step 1.3. User-Defined Functions \n",
    "### Define \"price_label\" function and apply it to 'df' subset as column \"price_range\""
   ]
  },
  {
   "cell_type": "code",
   "execution_count": 6,
   "id": "42f9988c",
   "metadata": {},
   "outputs": [],
   "source": [
    "# Define function for \"price_lable\"\n",
    "def price_label(row):\n",
    "\n",
    "  if row['prices'] <= 5:\n",
    "    return 'Low-range product'\n",
    "  elif (row['prices'] > 5) and (row['prices'] <= 15):\n",
    "    return 'Mid-range product'\n",
    "  elif row['prices'] > 15:\n",
    "    return 'High range'\n",
    "  else: return 'Not enough data'"
   ]
  },
  {
   "cell_type": "code",
   "execution_count": 7,
   "id": "6304f4c7",
   "metadata": {},
   "outputs": [
    {
     "name": "stderr",
     "output_type": "stream",
     "text": [
      "C:\\Users\\prena\\AppData\\Local\\Temp\\ipykernel_19036\\1306349550.py:2: SettingWithCopyWarning: \n",
      "A value is trying to be set on a copy of a slice from a DataFrame.\n",
      "Try using .loc[row_indexer,col_indexer] = value instead\n",
      "\n",
      "See the caveats in the documentation: https://pandas.pydata.org/pandas-docs/stable/user_guide/indexing.html#returning-a-view-versus-a-copy\n",
      "  df['price_range'] = df.apply(price_label, axis=1)\n"
     ]
    }
   ],
   "source": [
    "# Apply function in new row \"price_range\"\n",
    "df['price_range'] = df.apply(price_label, axis=1)"
   ]
  },
  {
   "cell_type": "code",
   "execution_count": 8,
   "id": "bef8c0f7",
   "metadata": {},
   "outputs": [
    {
     "data": {
      "text/plain": [
       "Mid-range product    756450\n",
       "Low-range product    243550\n",
       "Name: price_range, dtype: int64"
      ]
     },
     "execution_count": 8,
     "metadata": {},
     "output_type": "execute_result"
    }
   ],
   "source": [
    "# Check the values in column \"price_range\"\n",
    "df['price_range'].value_counts(dropna = False)"
   ]
  },
  {
   "cell_type": "code",
   "execution_count": 9,
   "id": "3a47bbda",
   "metadata": {},
   "outputs": [
    {
     "data": {
      "text/html": [
       "<div>\n",
       "<style scoped>\n",
       "    .dataframe tbody tr th:only-of-type {\n",
       "        vertical-align: middle;\n",
       "    }\n",
       "\n",
       "    .dataframe tbody tr th {\n",
       "        vertical-align: top;\n",
       "    }\n",
       "\n",
       "    .dataframe thead th {\n",
       "        text-align: right;\n",
       "    }\n",
       "</style>\n",
       "<table border=\"1\" class=\"dataframe\">\n",
       "  <thead>\n",
       "    <tr style=\"text-align: right;\">\n",
       "      <th></th>\n",
       "      <th>order_id</th>\n",
       "      <th>user_id</th>\n",
       "      <th>order_number</th>\n",
       "      <th>order_day_of_week</th>\n",
       "      <th>order_hour_of_day</th>\n",
       "      <th>days_since_last_order</th>\n",
       "      <th>product_id</th>\n",
       "      <th>add_to_cart_order</th>\n",
       "      <th>reordered</th>\n",
       "      <th>_merge</th>\n",
       "      <th>product_name</th>\n",
       "      <th>aisle_id</th>\n",
       "      <th>department_id</th>\n",
       "      <th>prices</th>\n",
       "      <th>_merge_2</th>\n",
       "      <th>price_range</th>\n",
       "    </tr>\n",
       "  </thead>\n",
       "  <tbody>\n",
       "    <tr>\n",
       "      <th>0</th>\n",
       "      <td>2539329</td>\n",
       "      <td>1</td>\n",
       "      <td>1</td>\n",
       "      <td>2</td>\n",
       "      <td>8</td>\n",
       "      <td>NaN</td>\n",
       "      <td>196</td>\n",
       "      <td>1</td>\n",
       "      <td>0</td>\n",
       "      <td>both</td>\n",
       "      <td>Soda</td>\n",
       "      <td>77</td>\n",
       "      <td>7</td>\n",
       "      <td>9.0</td>\n",
       "      <td>both</td>\n",
       "      <td>Mid-range product</td>\n",
       "    </tr>\n",
       "    <tr>\n",
       "      <th>1</th>\n",
       "      <td>2398795</td>\n",
       "      <td>1</td>\n",
       "      <td>2</td>\n",
       "      <td>3</td>\n",
       "      <td>7</td>\n",
       "      <td>15.0</td>\n",
       "      <td>196</td>\n",
       "      <td>1</td>\n",
       "      <td>1</td>\n",
       "      <td>both</td>\n",
       "      <td>Soda</td>\n",
       "      <td>77</td>\n",
       "      <td>7</td>\n",
       "      <td>9.0</td>\n",
       "      <td>both</td>\n",
       "      <td>Mid-range product</td>\n",
       "    </tr>\n",
       "    <tr>\n",
       "      <th>2</th>\n",
       "      <td>473747</td>\n",
       "      <td>1</td>\n",
       "      <td>3</td>\n",
       "      <td>3</td>\n",
       "      <td>12</td>\n",
       "      <td>21.0</td>\n",
       "      <td>196</td>\n",
       "      <td>1</td>\n",
       "      <td>1</td>\n",
       "      <td>both</td>\n",
       "      <td>Soda</td>\n",
       "      <td>77</td>\n",
       "      <td>7</td>\n",
       "      <td>9.0</td>\n",
       "      <td>both</td>\n",
       "      <td>Mid-range product</td>\n",
       "    </tr>\n",
       "    <tr>\n",
       "      <th>3</th>\n",
       "      <td>2254736</td>\n",
       "      <td>1</td>\n",
       "      <td>4</td>\n",
       "      <td>4</td>\n",
       "      <td>7</td>\n",
       "      <td>29.0</td>\n",
       "      <td>196</td>\n",
       "      <td>1</td>\n",
       "      <td>1</td>\n",
       "      <td>both</td>\n",
       "      <td>Soda</td>\n",
       "      <td>77</td>\n",
       "      <td>7</td>\n",
       "      <td>9.0</td>\n",
       "      <td>both</td>\n",
       "      <td>Mid-range product</td>\n",
       "    </tr>\n",
       "    <tr>\n",
       "      <th>4</th>\n",
       "      <td>431534</td>\n",
       "      <td>1</td>\n",
       "      <td>5</td>\n",
       "      <td>4</td>\n",
       "      <td>15</td>\n",
       "      <td>28.0</td>\n",
       "      <td>196</td>\n",
       "      <td>1</td>\n",
       "      <td>1</td>\n",
       "      <td>both</td>\n",
       "      <td>Soda</td>\n",
       "      <td>77</td>\n",
       "      <td>7</td>\n",
       "      <td>9.0</td>\n",
       "      <td>both</td>\n",
       "      <td>Mid-range product</td>\n",
       "    </tr>\n",
       "  </tbody>\n",
       "</table>\n",
       "</div>"
      ],
      "text/plain": [
       "   order_id  user_id  order_number  order_day_of_week  order_hour_of_day  \\\n",
       "0   2539329        1             1                  2                  8   \n",
       "1   2398795        1             2                  3                  7   \n",
       "2    473747        1             3                  3                 12   \n",
       "3   2254736        1             4                  4                  7   \n",
       "4    431534        1             5                  4                 15   \n",
       "\n",
       "   days_since_last_order  product_id  add_to_cart_order  reordered _merge  \\\n",
       "0                    NaN         196                  1          0   both   \n",
       "1                   15.0         196                  1          1   both   \n",
       "2                   21.0         196                  1          1   both   \n",
       "3                   29.0         196                  1          1   both   \n",
       "4                   28.0         196                  1          1   both   \n",
       "\n",
       "  product_name  aisle_id  department_id  prices _merge_2        price_range  \n",
       "0         Soda        77              7     9.0     both  Mid-range product  \n",
       "1         Soda        77              7     9.0     both  Mid-range product  \n",
       "2         Soda        77              7     9.0     both  Mid-range product  \n",
       "3         Soda        77              7     9.0     both  Mid-range product  \n",
       "4         Soda        77              7     9.0     both  Mid-range product  "
      ]
     },
     "execution_count": 9,
     "metadata": {},
     "output_type": "execute_result"
    }
   ],
   "source": [
    "# Investigate new column\n",
    "df.head()"
   ]
  },
  {
   "cell_type": "code",
   "execution_count": 10,
   "id": "e4368850",
   "metadata": {},
   "outputs": [
    {
     "data": {
      "text/plain": [
       "14.8"
      ]
     },
     "execution_count": 10,
     "metadata": {},
     "output_type": "execute_result"
    }
   ],
   "source": [
    "df['prices'].max()"
   ]
  },
  {
   "cell_type": "markdown",
   "id": "5e1694d6",
   "metadata": {},
   "source": [
    "## Step1.4. loc() Function\n",
    "### Use loc() function on 'df' subset to set values for \"price_range_loc\""
   ]
  },
  {
   "cell_type": "code",
   "execution_count": 11,
   "id": "92ec4886",
   "metadata": {},
   "outputs": [
    {
     "name": "stderr",
     "output_type": "stream",
     "text": [
      "C:\\Users\\prena\\AppData\\Local\\Temp\\ipykernel_19036\\1169838859.py:1: SettingWithCopyWarning: \n",
      "A value is trying to be set on a copy of a slice from a DataFrame.\n",
      "Try using .loc[row_indexer,col_indexer] = value instead\n",
      "\n",
      "See the caveats in the documentation: https://pandas.pydata.org/pandas-docs/stable/user_guide/indexing.html#returning-a-view-versus-a-copy\n",
      "  df.loc[df['prices'] > 15, 'price_range_loc'] = 'High-range product'\n"
     ]
    }
   ],
   "source": [
    "df.loc[df['prices'] > 15, 'price_range_loc'] = 'High-range product'"
   ]
  },
  {
   "cell_type": "code",
   "execution_count": 12,
   "id": "bbb80ce3",
   "metadata": {},
   "outputs": [],
   "source": [
    "df.loc[(df['prices'] <= 15) & (df['prices'] > 5), 'price_range_loc'] = 'Mid-range product'"
   ]
  },
  {
   "cell_type": "code",
   "execution_count": 13,
   "id": "aaabce73",
   "metadata": {},
   "outputs": [],
   "source": [
    "df.loc[df['prices'] <= 5, 'price_range_loc'] = 'Low-range product'"
   ]
  },
  {
   "cell_type": "code",
   "execution_count": 14,
   "id": "948a2fe3",
   "metadata": {},
   "outputs": [
    {
     "data": {
      "text/plain": [
       "Mid-range product    756450\n",
       "Low-range product    243550\n",
       "Name: price_range_loc, dtype: int64"
      ]
     },
     "execution_count": 14,
     "metadata": {},
     "output_type": "execute_result"
    }
   ],
   "source": [
    "df['price_range_loc'].value_counts(dropna = False)"
   ]
  },
  {
   "cell_type": "markdown",
   "id": "1954fdb2",
   "metadata": {},
   "source": [
    "This results in the same value counts as the user-defined function above (5.)"
   ]
  },
  {
   "cell_type": "markdown",
   "id": "9808cf1c",
   "metadata": {},
   "source": [
    "## Step 1.5 loc() Function\n",
    "### Use loc() function on entire 'df_ords_prods_merged' dataframe to set values for \"price_range_loc\""
   ]
  },
  {
   "cell_type": "code",
   "execution_count": 15,
   "id": "6e5a4e83",
   "metadata": {},
   "outputs": [],
   "source": [
    "df_ords_prods_merged.loc[df_ords_prods_merged['prices'] > 15, 'price_range_loc'] = 'High-range product'"
   ]
  },
  {
   "cell_type": "code",
   "execution_count": 16,
   "id": "223c9694",
   "metadata": {},
   "outputs": [],
   "source": [
    "df_ords_prods_merged.loc[(df_ords_prods_merged['prices'] <= 15) & (df_ords_prods_merged['prices'] > 5), 'price_range_loc'] = 'Mid-range product'"
   ]
  },
  {
   "cell_type": "code",
   "execution_count": 17,
   "id": "7a3fb249",
   "metadata": {},
   "outputs": [],
   "source": [
    "df_ords_prods_merged.loc[df_ords_prods_merged['prices'] <= 5, 'price_range_loc'] = 'Low-range product'"
   ]
  },
  {
   "cell_type": "code",
   "execution_count": 18,
   "id": "e9eb2c36",
   "metadata": {},
   "outputs": [
    {
     "data": {
      "text/plain": [
       "Mid-range product     21860860\n",
       "Low-range product     10126321\n",
       "High-range product      412551\n",
       "Name: price_range_loc, dtype: int64"
      ]
     },
     "execution_count": 18,
     "metadata": {},
     "output_type": "execute_result"
    }
   ],
   "source": [
    "df_ords_prods_merged['price_range_loc'].value_counts(dropna = False)"
   ]
  },
  {
   "cell_type": "markdown",
   "id": "e9797f06",
   "metadata": {},
   "source": [
    "## Step 1.6 For-Loops\n",
    "### Create column \"busiest day\" in 'df_ords_prods_merged' and populate valules using for-loop"
   ]
  },
  {
   "cell_type": "code",
   "execution_count": 19,
   "id": "5dbdf7c4",
   "metadata": {},
   "outputs": [
    {
     "data": {
      "text/plain": [
       "0    6203329\n",
       "1    5659298\n",
       "6    4495887\n",
       "2    4213105\n",
       "5    4205076\n",
       "3    3839865\n",
       "4    3783172\n",
       "Name: order_day_of_week, dtype: int64"
      ]
     },
     "execution_count": 19,
     "metadata": {},
     "output_type": "execute_result"
    }
   ],
   "source": [
    "# Determine which day most orders take place w/ frequency table\n",
    "df_ords_prods_merged['order_day_of_week'].value_counts(dropna = False)"
   ]
  },
  {
   "cell_type": "code",
   "execution_count": 20,
   "id": "ea30fd27",
   "metadata": {},
   "outputs": [],
   "source": [
    "# Create new column (\"busiest day\") that will contain one of three values: \"Busiest day\", \"Least busy\", \"Regularly busy\"\n",
    "\n",
    "result = []\n",
    "\n",
    "for value in df_ords_prods_merged[\"order_day_of_week\"]:\n",
    "    if value == 0:\n",
    "        result.append(\"Busiest day\")\n",
    "    elif value == 4:\n",
    "        result.append(\"Least busy\")\n",
    "    else:\n",
    "        result.append(\"Regularly busy\")"
   ]
  },
  {
   "cell_type": "code",
   "execution_count": 21,
   "id": "de7e455d",
   "metadata": {},
   "outputs": [],
   "source": [
    "# Create new column called 'busiest_day' within df_ords_prods_merged dataframe and set it equal to result\n",
    "df_ords_prods_merged['busiest_day'] = result"
   ]
  },
  {
   "cell_type": "code",
   "execution_count": 22,
   "id": "52583c0a",
   "metadata": {},
   "outputs": [
    {
     "data": {
      "text/plain": [
       "Regularly busy    22413231\n",
       "Busiest day        6203329\n",
       "Least busy         3783172\n",
       "Name: busiest_day, dtype: int64"
      ]
     },
     "execution_count": 22,
     "metadata": {},
     "output_type": "execute_result"
    }
   ],
   "source": [
    "df_ords_prods_merged['busiest_day'].value_counts(dropna = False)"
   ]
  },
  {
   "cell_type": "markdown",
   "id": "cd8cc271",
   "metadata": {},
   "source": [
    "# Exercise 4.7 Task (Step 2 - Step 7)"
   ]
  },
  {
   "cell_type": "markdown",
   "id": "6546a95e",
   "metadata": {},
   "source": [
    "## Step 2. Create column to indicate busiest days (plural) and least busy days (plural)"
   ]
  },
  {
   "cell_type": "markdown",
   "id": "123c91fb",
   "metadata": {},
   "source": [
    "In this step, I'm creating an updated \"busiest_day\" column (from Step 1.6) called \"busiest_days\". For this new column, the days of the week will fall into the following categories (based on the frequency table for \"order_day_of_week\" shown at the beginning of Step 1.6:\n",
    "- \"Busiest day\" = the two busiest days of the week (0 - Saturday or 1 - Sunday)\n",
    "- \"Least busy\" = the two least busy days of the week (4 - Wednesday or 3 - Tuesday)\n",
    "- \"Regular busy\" = all other days"
   ]
  },
  {
   "cell_type": "code",
   "execution_count": 23,
   "id": "78608f58",
   "metadata": {},
   "outputs": [],
   "source": [
    "# Create new column (\"busiest day\") that will contain one of three values: \"Busiest day\", \"Least busy\", \"Regularly busy\"\n",
    "\n",
    "result = []\n",
    "\n",
    "for value in df_ords_prods_merged[\"order_day_of_week\"]:\n",
    "    if value == 0 or value == 1:\n",
    "        result.append(\"Busiest day\")\n",
    "    elif value == 4 or value == 3:\n",
    "        result.append(\"Least busy\")\n",
    "    else:\n",
    "        result.append(\"Regularly busy\")"
   ]
  },
  {
   "cell_type": "code",
   "execution_count": 24,
   "id": "d5cda5ae",
   "metadata": {},
   "outputs": [],
   "source": [
    "# Create new column called 'busiest_day' within df_ords_prods_merged dataframe and set it equal to result\n",
    "df_ords_prods_merged['busiest_days'] = result"
   ]
  },
  {
   "cell_type": "markdown",
   "id": "bdfbbf65",
   "metadata": {},
   "source": [
    "## Step 3. Check the values of 'busiest_days' column for accuracy"
   ]
  },
  {
   "cell_type": "code",
   "execution_count": 25,
   "id": "59534d34",
   "metadata": {},
   "outputs": [
    {
     "data": {
      "text/plain": [
       "Regularly busy    12914068\n",
       "Busiest day       11862627\n",
       "Least busy         7623037\n",
       "Name: busiest_days, dtype: int64"
      ]
     },
     "execution_count": 25,
     "metadata": {},
     "output_type": "execute_result"
    }
   ],
   "source": [
    "# Check frequency of column 'busiest_days'\n",
    "df_ords_prods_merged['busiest_days'].value_counts(dropna = False)"
   ]
  },
  {
   "cell_type": "code",
   "execution_count": 26,
   "id": "d003a262",
   "metadata": {},
   "outputs": [
    {
     "data": {
      "text/html": [
       "<div>\n",
       "<style scoped>\n",
       "    .dataframe tbody tr th:only-of-type {\n",
       "        vertical-align: middle;\n",
       "    }\n",
       "\n",
       "    .dataframe tbody tr th {\n",
       "        vertical-align: top;\n",
       "    }\n",
       "\n",
       "    .dataframe thead th {\n",
       "        text-align: right;\n",
       "    }\n",
       "</style>\n",
       "<table border=\"1\" class=\"dataframe\">\n",
       "  <thead>\n",
       "    <tr style=\"text-align: right;\">\n",
       "      <th></th>\n",
       "      <th>order_id</th>\n",
       "      <th>user_id</th>\n",
       "      <th>order_number</th>\n",
       "      <th>order_day_of_week</th>\n",
       "      <th>order_hour_of_day</th>\n",
       "      <th>days_since_last_order</th>\n",
       "      <th>product_id</th>\n",
       "      <th>add_to_cart_order</th>\n",
       "      <th>reordered</th>\n",
       "      <th>_merge</th>\n",
       "      <th>product_name</th>\n",
       "      <th>aisle_id</th>\n",
       "      <th>department_id</th>\n",
       "      <th>prices</th>\n",
       "      <th>_merge_2</th>\n",
       "      <th>price_range_loc</th>\n",
       "      <th>busiest_day</th>\n",
       "      <th>busiest_days</th>\n",
       "    </tr>\n",
       "  </thead>\n",
       "  <tbody>\n",
       "    <tr>\n",
       "      <th>0</th>\n",
       "      <td>2539329</td>\n",
       "      <td>1</td>\n",
       "      <td>1</td>\n",
       "      <td>2</td>\n",
       "      <td>8</td>\n",
       "      <td>NaN</td>\n",
       "      <td>196</td>\n",
       "      <td>1</td>\n",
       "      <td>0</td>\n",
       "      <td>both</td>\n",
       "      <td>Soda</td>\n",
       "      <td>77</td>\n",
       "      <td>7</td>\n",
       "      <td>9.0</td>\n",
       "      <td>both</td>\n",
       "      <td>Mid-range product</td>\n",
       "      <td>Regularly busy</td>\n",
       "      <td>Regularly busy</td>\n",
       "    </tr>\n",
       "    <tr>\n",
       "      <th>1</th>\n",
       "      <td>2398795</td>\n",
       "      <td>1</td>\n",
       "      <td>2</td>\n",
       "      <td>3</td>\n",
       "      <td>7</td>\n",
       "      <td>15.0</td>\n",
       "      <td>196</td>\n",
       "      <td>1</td>\n",
       "      <td>1</td>\n",
       "      <td>both</td>\n",
       "      <td>Soda</td>\n",
       "      <td>77</td>\n",
       "      <td>7</td>\n",
       "      <td>9.0</td>\n",
       "      <td>both</td>\n",
       "      <td>Mid-range product</td>\n",
       "      <td>Regularly busy</td>\n",
       "      <td>Least busy</td>\n",
       "    </tr>\n",
       "    <tr>\n",
       "      <th>2</th>\n",
       "      <td>473747</td>\n",
       "      <td>1</td>\n",
       "      <td>3</td>\n",
       "      <td>3</td>\n",
       "      <td>12</td>\n",
       "      <td>21.0</td>\n",
       "      <td>196</td>\n",
       "      <td>1</td>\n",
       "      <td>1</td>\n",
       "      <td>both</td>\n",
       "      <td>Soda</td>\n",
       "      <td>77</td>\n",
       "      <td>7</td>\n",
       "      <td>9.0</td>\n",
       "      <td>both</td>\n",
       "      <td>Mid-range product</td>\n",
       "      <td>Regularly busy</td>\n",
       "      <td>Least busy</td>\n",
       "    </tr>\n",
       "    <tr>\n",
       "      <th>3</th>\n",
       "      <td>2254736</td>\n",
       "      <td>1</td>\n",
       "      <td>4</td>\n",
       "      <td>4</td>\n",
       "      <td>7</td>\n",
       "      <td>29.0</td>\n",
       "      <td>196</td>\n",
       "      <td>1</td>\n",
       "      <td>1</td>\n",
       "      <td>both</td>\n",
       "      <td>Soda</td>\n",
       "      <td>77</td>\n",
       "      <td>7</td>\n",
       "      <td>9.0</td>\n",
       "      <td>both</td>\n",
       "      <td>Mid-range product</td>\n",
       "      <td>Least busy</td>\n",
       "      <td>Least busy</td>\n",
       "    </tr>\n",
       "    <tr>\n",
       "      <th>4</th>\n",
       "      <td>431534</td>\n",
       "      <td>1</td>\n",
       "      <td>5</td>\n",
       "      <td>4</td>\n",
       "      <td>15</td>\n",
       "      <td>28.0</td>\n",
       "      <td>196</td>\n",
       "      <td>1</td>\n",
       "      <td>1</td>\n",
       "      <td>both</td>\n",
       "      <td>Soda</td>\n",
       "      <td>77</td>\n",
       "      <td>7</td>\n",
       "      <td>9.0</td>\n",
       "      <td>both</td>\n",
       "      <td>Mid-range product</td>\n",
       "      <td>Least busy</td>\n",
       "      <td>Least busy</td>\n",
       "    </tr>\n",
       "  </tbody>\n",
       "</table>\n",
       "</div>"
      ],
      "text/plain": [
       "   order_id  user_id  order_number  order_day_of_week  order_hour_of_day  \\\n",
       "0   2539329        1             1                  2                  8   \n",
       "1   2398795        1             2                  3                  7   \n",
       "2    473747        1             3                  3                 12   \n",
       "3   2254736        1             4                  4                  7   \n",
       "4    431534        1             5                  4                 15   \n",
       "\n",
       "   days_since_last_order  product_id  add_to_cart_order  reordered _merge  \\\n",
       "0                    NaN         196                  1          0   both   \n",
       "1                   15.0         196                  1          1   both   \n",
       "2                   21.0         196                  1          1   both   \n",
       "3                   29.0         196                  1          1   both   \n",
       "4                   28.0         196                  1          1   both   \n",
       "\n",
       "  product_name  aisle_id  department_id  prices _merge_2    price_range_loc  \\\n",
       "0         Soda        77              7     9.0     both  Mid-range product   \n",
       "1         Soda        77              7     9.0     both  Mid-range product   \n",
       "2         Soda        77              7     9.0     both  Mid-range product   \n",
       "3         Soda        77              7     9.0     both  Mid-range product   \n",
       "4         Soda        77              7     9.0     both  Mid-range product   \n",
       "\n",
       "      busiest_day    busiest_days  \n",
       "0  Regularly busy  Regularly busy  \n",
       "1  Regularly busy      Least busy  \n",
       "2  Regularly busy      Least busy  \n",
       "3      Least busy      Least busy  \n",
       "4      Least busy      Least busy  "
      ]
     },
     "execution_count": 26,
     "metadata": {},
     "output_type": "execute_result"
    }
   ],
   "source": [
    "# Check df_ords_prods_merged for update\n",
    "df_ords_prods_merged.head()"
   ]
  },
  {
   "cell_type": "code",
   "execution_count": 28,
   "id": "0efcd043",
   "metadata": {},
   "outputs": [],
   "source": [
    "# Define function to check new column 'busiest_days'\n",
    "def add_num(x,y):\n",
    "    sum = x + y\n",
    "    return sum"
   ]
  },
  {
   "cell_type": "code",
   "execution_count": 29,
   "id": "9a74c47b",
   "metadata": {},
   "outputs": [
    {
     "data": {
      "text/plain": [
       "7623037"
      ]
     },
     "execution_count": 29,
     "metadata": {},
     "output_type": "execute_result"
    }
   ],
   "source": [
    "# Run function for \"Least busy\" days by adding freqencies for days 4 and 3\n",
    "add_num(3839865,3783172)"
   ]
  },
  {
   "cell_type": "code",
   "execution_count": 30,
   "id": "ea386aef",
   "metadata": {},
   "outputs": [
    {
     "data": {
      "text/plain": [
       "11862627"
      ]
     },
     "execution_count": 30,
     "metadata": {},
     "output_type": "execute_result"
    }
   ],
   "source": [
    "# Run function for \"Busiest day\" days by adding frequencies for days 0 and 1\n",
    "add_num(6203329,5659298)"
   ]
  },
  {
   "cell_type": "markdown",
   "id": "81457c2d",
   "metadata": {},
   "source": [
    "## Step 4. Create column to indicate busiest hours "
   ]
  },
  {
   "cell_type": "code",
   "execution_count": 31,
   "id": "a8cec009",
   "metadata": {},
   "outputs": [
    {
     "data": {
      "text/plain": [
       "10    2761333\n",
       "11    2735694\n",
       "14    2688728\n",
       "15    2661718\n",
       "13    2660570\n",
       "12    2618104\n",
       "16    2534744\n",
       "9     2453842\n",
       "17    2087273\n",
       "8     1717863\n",
       "18    1636226\n",
       "19    1258076\n",
       "20     976000\n",
       "7      890923\n",
       "21     795528\n",
       "22     634159\n",
       "23     402272\n",
       "6      290450\n",
       "0      218742\n",
       "1      115683\n",
       "5       87944\n",
       "2       69360\n",
       "4       53232\n",
       "3       51268\n",
       "Name: order_hour_of_day, dtype: int64"
      ]
     },
     "execution_count": 31,
     "metadata": {},
     "output_type": "execute_result"
    }
   ],
   "source": [
    "# Determine which busiest hours w/ frequency table\n",
    "df_ords_prods_merged['order_hour_of_day'].value_counts(dropna = False)"
   ]
  },
  {
   "cell_type": "markdown",
   "id": "9fa440d5",
   "metadata": {},
   "source": [
    "Splitting these times into the following three categories (8 times per category), we get the following:\n",
    "- \"Most Orders\": 9-16 (9am, 10am, 11am, 12pm, 1pm, 2pm, 3pm, 4pm)\n",
    "- \"Average Orders\": 7-8 (7am, 8am) and 17-22 (5pm, 6pm, 7pm, 8pm, 9pm 10pm)\n",
    "- \"Fewest Orders\": 23-6 (11pm, 12am, 1am, 2am, 3am, 4am, 5am, 6am)"
   ]
  },
  {
   "cell_type": "code",
   "execution_count": 32,
   "id": "e346306a",
   "metadata": {},
   "outputs": [],
   "source": [
    "# Create new column (\"busiest_period_of_day\") that will contain one of three values: \"Busiest day\", \"Least busy\", \"Regularly busy\"\n",
    "\n",
    "result = []\n",
    "\n",
    "for value in df_ords_prods_merged[\"order_hour_of_day\"]:\n",
    "    if value >= 9 and value < 17:\n",
    "        result.append(\"Most orders\")\n",
    "    elif value == 7 or value == 8 or (value >= 17 and value < 23):\n",
    "        result.append(\"Average orders\")\n",
    "    else:\n",
    "        result.append(\"Fewest orders\")"
   ]
  },
  {
   "cell_type": "code",
   "execution_count": 33,
   "id": "815416f0",
   "metadata": {},
   "outputs": [],
   "source": [
    "# Create new column called 'busiest_period_of_day' within df_ords_prods_merged dataframe and set it equal to result\n",
    "df_ords_prods_merged['busiest_period_of_day'] = result"
   ]
  },
  {
   "cell_type": "markdown",
   "id": "a63ad487",
   "metadata": {},
   "source": [
    "## Step 5. Check the values of 'busiest_period_of_day' for accuracy "
   ]
  },
  {
   "cell_type": "code",
   "execution_count": 34,
   "id": "ca9b197d",
   "metadata": {},
   "outputs": [
    {
     "data": {
      "text/plain": [
       "Most orders       21114733\n",
       "Average orders     9996048\n",
       "Fewest orders      1288951\n",
       "Name: busiest_period_of_day, dtype: int64"
      ]
     },
     "execution_count": 34,
     "metadata": {},
     "output_type": "execute_result"
    }
   ],
   "source": [
    "# Check frequency of column 'busiest_period_of_day'\n",
    "df_ords_prods_merged['busiest_period_of_day'].value_counts(dropna = False)"
   ]
  },
  {
   "cell_type": "code",
   "execution_count": 35,
   "id": "01e6f356",
   "metadata": {},
   "outputs": [
    {
     "data": {
      "text/html": [
       "<div>\n",
       "<style scoped>\n",
       "    .dataframe tbody tr th:only-of-type {\n",
       "        vertical-align: middle;\n",
       "    }\n",
       "\n",
       "    .dataframe tbody tr th {\n",
       "        vertical-align: top;\n",
       "    }\n",
       "\n",
       "    .dataframe thead th {\n",
       "        text-align: right;\n",
       "    }\n",
       "</style>\n",
       "<table border=\"1\" class=\"dataframe\">\n",
       "  <thead>\n",
       "    <tr style=\"text-align: right;\">\n",
       "      <th></th>\n",
       "      <th>order_id</th>\n",
       "      <th>user_id</th>\n",
       "      <th>order_number</th>\n",
       "      <th>order_day_of_week</th>\n",
       "      <th>order_hour_of_day</th>\n",
       "      <th>days_since_last_order</th>\n",
       "      <th>product_id</th>\n",
       "      <th>add_to_cart_order</th>\n",
       "      <th>reordered</th>\n",
       "      <th>_merge</th>\n",
       "      <th>product_name</th>\n",
       "      <th>aisle_id</th>\n",
       "      <th>department_id</th>\n",
       "      <th>prices</th>\n",
       "      <th>_merge_2</th>\n",
       "      <th>price_range_loc</th>\n",
       "      <th>busiest_day</th>\n",
       "      <th>busiest_days</th>\n",
       "      <th>busiest_period_of_day</th>\n",
       "    </tr>\n",
       "  </thead>\n",
       "  <tbody>\n",
       "    <tr>\n",
       "      <th>0</th>\n",
       "      <td>2539329</td>\n",
       "      <td>1</td>\n",
       "      <td>1</td>\n",
       "      <td>2</td>\n",
       "      <td>8</td>\n",
       "      <td>NaN</td>\n",
       "      <td>196</td>\n",
       "      <td>1</td>\n",
       "      <td>0</td>\n",
       "      <td>both</td>\n",
       "      <td>Soda</td>\n",
       "      <td>77</td>\n",
       "      <td>7</td>\n",
       "      <td>9.0</td>\n",
       "      <td>both</td>\n",
       "      <td>Mid-range product</td>\n",
       "      <td>Regularly busy</td>\n",
       "      <td>Regularly busy</td>\n",
       "      <td>Average orders</td>\n",
       "    </tr>\n",
       "    <tr>\n",
       "      <th>1</th>\n",
       "      <td>2398795</td>\n",
       "      <td>1</td>\n",
       "      <td>2</td>\n",
       "      <td>3</td>\n",
       "      <td>7</td>\n",
       "      <td>15.0</td>\n",
       "      <td>196</td>\n",
       "      <td>1</td>\n",
       "      <td>1</td>\n",
       "      <td>both</td>\n",
       "      <td>Soda</td>\n",
       "      <td>77</td>\n",
       "      <td>7</td>\n",
       "      <td>9.0</td>\n",
       "      <td>both</td>\n",
       "      <td>Mid-range product</td>\n",
       "      <td>Regularly busy</td>\n",
       "      <td>Least busy</td>\n",
       "      <td>Average orders</td>\n",
       "    </tr>\n",
       "    <tr>\n",
       "      <th>2</th>\n",
       "      <td>473747</td>\n",
       "      <td>1</td>\n",
       "      <td>3</td>\n",
       "      <td>3</td>\n",
       "      <td>12</td>\n",
       "      <td>21.0</td>\n",
       "      <td>196</td>\n",
       "      <td>1</td>\n",
       "      <td>1</td>\n",
       "      <td>both</td>\n",
       "      <td>Soda</td>\n",
       "      <td>77</td>\n",
       "      <td>7</td>\n",
       "      <td>9.0</td>\n",
       "      <td>both</td>\n",
       "      <td>Mid-range product</td>\n",
       "      <td>Regularly busy</td>\n",
       "      <td>Least busy</td>\n",
       "      <td>Most orders</td>\n",
       "    </tr>\n",
       "    <tr>\n",
       "      <th>3</th>\n",
       "      <td>2254736</td>\n",
       "      <td>1</td>\n",
       "      <td>4</td>\n",
       "      <td>4</td>\n",
       "      <td>7</td>\n",
       "      <td>29.0</td>\n",
       "      <td>196</td>\n",
       "      <td>1</td>\n",
       "      <td>1</td>\n",
       "      <td>both</td>\n",
       "      <td>Soda</td>\n",
       "      <td>77</td>\n",
       "      <td>7</td>\n",
       "      <td>9.0</td>\n",
       "      <td>both</td>\n",
       "      <td>Mid-range product</td>\n",
       "      <td>Least busy</td>\n",
       "      <td>Least busy</td>\n",
       "      <td>Average orders</td>\n",
       "    </tr>\n",
       "    <tr>\n",
       "      <th>4</th>\n",
       "      <td>431534</td>\n",
       "      <td>1</td>\n",
       "      <td>5</td>\n",
       "      <td>4</td>\n",
       "      <td>15</td>\n",
       "      <td>28.0</td>\n",
       "      <td>196</td>\n",
       "      <td>1</td>\n",
       "      <td>1</td>\n",
       "      <td>both</td>\n",
       "      <td>Soda</td>\n",
       "      <td>77</td>\n",
       "      <td>7</td>\n",
       "      <td>9.0</td>\n",
       "      <td>both</td>\n",
       "      <td>Mid-range product</td>\n",
       "      <td>Least busy</td>\n",
       "      <td>Least busy</td>\n",
       "      <td>Most orders</td>\n",
       "    </tr>\n",
       "  </tbody>\n",
       "</table>\n",
       "</div>"
      ],
      "text/plain": [
       "   order_id  user_id  order_number  order_day_of_week  order_hour_of_day  \\\n",
       "0   2539329        1             1                  2                  8   \n",
       "1   2398795        1             2                  3                  7   \n",
       "2    473747        1             3                  3                 12   \n",
       "3   2254736        1             4                  4                  7   \n",
       "4    431534        1             5                  4                 15   \n",
       "\n",
       "   days_since_last_order  product_id  add_to_cart_order  reordered _merge  \\\n",
       "0                    NaN         196                  1          0   both   \n",
       "1                   15.0         196                  1          1   both   \n",
       "2                   21.0         196                  1          1   both   \n",
       "3                   29.0         196                  1          1   both   \n",
       "4                   28.0         196                  1          1   both   \n",
       "\n",
       "  product_name  aisle_id  department_id  prices _merge_2    price_range_loc  \\\n",
       "0         Soda        77              7     9.0     both  Mid-range product   \n",
       "1         Soda        77              7     9.0     both  Mid-range product   \n",
       "2         Soda        77              7     9.0     both  Mid-range product   \n",
       "3         Soda        77              7     9.0     both  Mid-range product   \n",
       "4         Soda        77              7     9.0     both  Mid-range product   \n",
       "\n",
       "      busiest_day    busiest_days busiest_period_of_day  \n",
       "0  Regularly busy  Regularly busy        Average orders  \n",
       "1  Regularly busy      Least busy        Average orders  \n",
       "2  Regularly busy      Least busy           Most orders  \n",
       "3      Least busy      Least busy        Average orders  \n",
       "4      Least busy      Least busy           Most orders  "
      ]
     },
     "execution_count": 35,
     "metadata": {},
     "output_type": "execute_result"
    }
   ],
   "source": [
    "# Check df_ords_prods_merged for update\n",
    "df_ords_prods_merged.head()"
   ]
  },
  {
   "cell_type": "markdown",
   "id": "e9fd5584",
   "metadata": {},
   "source": [
    "## Step 7. Exporting 'df_ords_prods_merged' to 'orders_products_merged_2.pkl'"
   ]
  },
  {
   "cell_type": "code",
   "execution_count": 36,
   "id": "feb63a97",
   "metadata": {},
   "outputs": [],
   "source": [
    "# Export data to pkl\n",
    "df_ords_prods_merged.to_pickle(os.path.join(path, '02 Data','Prepared Data', 'orders_products_merged_2.pkl'))"
   ]
  }
 ],
 "metadata": {
  "kernelspec": {
   "display_name": "Python 3 (ipykernel)",
   "language": "python",
   "name": "python3"
  },
  "language_info": {
   "codemirror_mode": {
    "name": "ipython",
    "version": 3
   },
   "file_extension": ".py",
   "mimetype": "text/x-python",
   "name": "python",
   "nbconvert_exporter": "python",
   "pygments_lexer": "ipython3",
   "version": "3.9.13"
  }
 },
 "nbformat": 4,
 "nbformat_minor": 5
}
