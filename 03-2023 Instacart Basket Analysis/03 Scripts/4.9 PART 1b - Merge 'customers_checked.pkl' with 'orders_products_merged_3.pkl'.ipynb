{
 "cells": [
  {
   "cell_type": "markdown",
   "id": "442090d5",
   "metadata": {},
   "source": [
    "\n",
    "### This script contains the following points:\n",
    "Note: Corresponding steps for exercise task shown as (Step x)\n",
    "\n",
    "#### 1. Importing libraries and defining project path.\n",
    "#### 2a. Importing dataset 'orders_products_merged_3.pkl' (dataframe named 'ords_prods_merge')\n",
    "#### 2b. Executing PLAN A to save memory on 'ords_prods_merge' - Changing datatypes \n",
    "#### 3a. Importing dataset 'customers_checked.pkl' (dataframe named 'df_customers')\n",
    "#### 3b. Executing PLAN A to save memory on 'df_customers' - Changing datatypes \n",
    "#### 4. (Step 6) Merging 'df_customers' with 'ords_prods_merge'\n",
    "#### 5. (Step 8) Export df_merged_large_3 as 'orders_products_all' as pkl file"
   ]
  },
  {
   "cell_type": "markdown",
   "id": "cde73ade",
   "metadata": {},
   "source": [
    "## 1. Importing Libraries and Defining Project Path"
   ]
  },
  {
   "cell_type": "code",
   "execution_count": 1,
   "id": "d65c563c",
   "metadata": {},
   "outputs": [],
   "source": [
    "# Importing pandas, numpy, and os\n",
    "import pandas as pd\n",
    "import numpy as np\n",
    "import os"
   ]
  },
  {
   "cell_type": "code",
   "execution_count": 2,
   "id": "a205898b",
   "metadata": {},
   "outputs": [],
   "source": [
    "# Defining project folder path\n",
    "path = r'C:\\Users\\prena\\03-2023 Instacart Basket Analysis'"
   ]
  },
  {
   "cell_type": "markdown",
   "id": "ae725435",
   "metadata": {},
   "source": [
    "## 2a- 2b. Import dataset and dealing with memory errors - PLAN A ('orders_products_merged_3.pkl') "
   ]
  },
  {
   "cell_type": "code",
   "execution_count": 3,
   "id": "68fa1a28",
   "metadata": {},
   "outputs": [],
   "source": [
    "# Importing orders_products_merged_3.pkl dataset\n",
    "ords_prods_merge = pd.read_pickle(os.path.join(path, '02 Data', 'Prepared Data', 'orders_products_merged_3.pkl'))"
   ]
  },
  {
   "cell_type": "code",
   "execution_count": 4,
   "id": "2a310770",
   "metadata": {},
   "outputs": [
    {
     "name": "stdout",
     "output_type": "stream",
     "text": [
      "<class 'pandas.core.frame.DataFrame'>\n",
      "Int64Index: 32399732 entries, 0 to 32399731\n",
      "Data columns (total 25 columns):\n",
      " #   Column                        Dtype   \n",
      "---  ------                        -----   \n",
      " 0   order_id                      int64   \n",
      " 1   user_id                       int64   \n",
      " 2   order_number                  int64   \n",
      " 3   order_day_of_week             int64   \n",
      " 4   order_hour_of_day             int64   \n",
      " 5   days_since_last_order         float64 \n",
      " 6   product_id                    int64   \n",
      " 7   add_to_cart_order             int64   \n",
      " 8   reordered                     int64   \n",
      " 9   _merge                        category\n",
      " 10  product_name                  object  \n",
      " 11  aisle_id                      int64   \n",
      " 12  department_id                 int64   \n",
      " 13  prices                        float64 \n",
      " 14  _merge_2                      category\n",
      " 15  price_range_loc               object  \n",
      " 16  busiest_day                   object  \n",
      " 17  busiest_days                  object  \n",
      " 18  busiest_period_of_day         object  \n",
      " 19  max_order                     int64   \n",
      " 20  loyalty_flag                  object  \n",
      " 21  avg_price                     float64 \n",
      " 22  spend_flag                    object  \n",
      " 23  median_days_since_last_order  float64 \n",
      " 24  order_freq_flag               object  \n",
      "dtypes: category(2), float64(4), int64(11), object(8)\n",
      "memory usage: 5.9+ GB\n"
     ]
    }
   ],
   "source": [
    "ords_prods_merge.info()"
   ]
  },
  {
   "cell_type": "code",
   "execution_count": 5,
   "id": "cd5a7df8",
   "metadata": {},
   "outputs": [],
   "source": [
    "# Change types for ords_prods_merge data set\n",
    "\n",
    "ords_prods_merge['order_id']= ords_prods_merge['order_id'].astype('int32')\n",
    "ords_prods_merge['user_id'] = ords_prods_merge['user_id'].astype('int32')\n",
    "ords_prods_merge['order_number']= ords_prods_merge['order_number'].astype('int8')\n",
    "ords_prods_merge['order_day_of_week']= ords_prods_merge['order_day_of_week'].astype('int8')\n",
    "ords_prods_merge['order_hour_of_day']= ords_prods_merge['order_hour_of_day'].astype('int8')\n",
    "ords_prods_merge['days_since_last_order']= ords_prods_merge['days_since_last_order'].astype('float16')\n",
    "ords_prods_merge['product_id'] = ords_prods_merge['product_id'].astype('int32')\n",
    "ords_prods_merge['reordered']= ords_prods_merge['reordered'].astype('int8')\n",
    "ords_prods_merge['add_to_cart_order']= ords_prods_merge['add_to_cart_order'].astype('int32')\n",
    "ords_prods_merge['aisle_id'] = ords_prods_merge['aisle_id'].astype('int8')\n",
    "ords_prods_merge['department_id'] = ords_prods_merge['department_id'].astype('int8')\n",
    "ords_prods_merge['prices'] = ords_prods_merge['prices'].astype('float16')"
   ]
  },
  {
   "cell_type": "code",
   "execution_count": 6,
   "id": "e4694973",
   "metadata": {},
   "outputs": [
    {
     "name": "stdout",
     "output_type": "stream",
     "text": [
      "<class 'pandas.core.frame.DataFrame'>\n",
      "Int64Index: 32399732 entries, 0 to 32399731\n",
      "Data columns (total 25 columns):\n",
      " #   Column                        Dtype   \n",
      "---  ------                        -----   \n",
      " 0   order_id                      int32   \n",
      " 1   user_id                       int32   \n",
      " 2   order_number                  int8    \n",
      " 3   order_day_of_week             int8    \n",
      " 4   order_hour_of_day             int8    \n",
      " 5   days_since_last_order         float16 \n",
      " 6   product_id                    int32   \n",
      " 7   add_to_cart_order             int32   \n",
      " 8   reordered                     int8    \n",
      " 9   _merge                        category\n",
      " 10  product_name                  object  \n",
      " 11  aisle_id                      int8    \n",
      " 12  department_id                 int8    \n",
      " 13  prices                        float16 \n",
      " 14  _merge_2                      category\n",
      " 15  price_range_loc               object  \n",
      " 16  busiest_day                   object  \n",
      " 17  busiest_days                  object  \n",
      " 18  busiest_period_of_day         object  \n",
      " 19  max_order                     int64   \n",
      " 20  loyalty_flag                  object  \n",
      " 21  avg_price                     float64 \n",
      " 22  spend_flag                    object  \n",
      " 23  median_days_since_last_order  float64 \n",
      " 24  order_freq_flag               object  \n",
      "dtypes: category(2), float16(2), float64(2), int32(4), int64(1), int8(6), object(8)\n",
      "memory usage: 3.7+ GB\n"
     ]
    }
   ],
   "source": [
    "ords_prods_merge.info()"
   ]
  },
  {
   "cell_type": "code",
   "execution_count": 7,
   "id": "cb5269ce",
   "metadata": {},
   "outputs": [],
   "source": [
    "ords_prods_merge['max_order'] = ords_prods_merge['max_order'].astype('int8')\n",
    "ords_prods_merge['avg_price'] = ords_prods_merge['avg_price'].astype('float16')\n",
    "ords_prods_merge['median_days_since_last_order'] = ords_prods_merge['median_days_since_last_order'].astype('float16')"
   ]
  },
  {
   "cell_type": "code",
   "execution_count": 8,
   "id": "08dfd8e1",
   "metadata": {},
   "outputs": [
    {
     "name": "stdout",
     "output_type": "stream",
     "text": [
      "<class 'pandas.core.frame.DataFrame'>\n",
      "Int64Index: 32399732 entries, 0 to 32399731\n",
      "Data columns (total 25 columns):\n",
      " #   Column                        Dtype   \n",
      "---  ------                        -----   \n",
      " 0   order_id                      int32   \n",
      " 1   user_id                       int32   \n",
      " 2   order_number                  int8    \n",
      " 3   order_day_of_week             int8    \n",
      " 4   order_hour_of_day             int8    \n",
      " 5   days_since_last_order         float16 \n",
      " 6   product_id                    int32   \n",
      " 7   add_to_cart_order             int32   \n",
      " 8   reordered                     int8    \n",
      " 9   _merge                        category\n",
      " 10  product_name                  object  \n",
      " 11  aisle_id                      int8    \n",
      " 12  department_id                 int8    \n",
      " 13  prices                        float16 \n",
      " 14  _merge_2                      category\n",
      " 15  price_range_loc               object  \n",
      " 16  busiest_day                   object  \n",
      " 17  busiest_days                  object  \n",
      " 18  busiest_period_of_day         object  \n",
      " 19  max_order                     int8    \n",
      " 20  loyalty_flag                  object  \n",
      " 21  avg_price                     float16 \n",
      " 22  spend_flag                    object  \n",
      " 23  median_days_since_last_order  float16 \n",
      " 24  order_freq_flag               object  \n",
      "dtypes: category(2), float16(4), int32(4), int8(7), object(8)\n",
      "memory usage: 3.2+ GB\n"
     ]
    }
   ],
   "source": [
    "ords_prods_merge.info()"
   ]
  },
  {
   "cell_type": "code",
   "execution_count": 9,
   "id": "47aa4130",
   "metadata": {},
   "outputs": [
    {
     "data": {
      "text/html": [
       "<div>\n",
       "<style scoped>\n",
       "    .dataframe tbody tr th:only-of-type {\n",
       "        vertical-align: middle;\n",
       "    }\n",
       "\n",
       "    .dataframe tbody tr th {\n",
       "        vertical-align: top;\n",
       "    }\n",
       "\n",
       "    .dataframe thead th {\n",
       "        text-align: right;\n",
       "    }\n",
       "</style>\n",
       "<table border=\"1\" class=\"dataframe\">\n",
       "  <thead>\n",
       "    <tr style=\"text-align: right;\">\n",
       "      <th></th>\n",
       "      <th>order_id</th>\n",
       "      <th>user_id</th>\n",
       "      <th>order_number</th>\n",
       "      <th>order_day_of_week</th>\n",
       "      <th>order_hour_of_day</th>\n",
       "      <th>days_since_last_order</th>\n",
       "      <th>product_id</th>\n",
       "      <th>add_to_cart_order</th>\n",
       "      <th>reordered</th>\n",
       "      <th>_merge</th>\n",
       "      <th>...</th>\n",
       "      <th>price_range_loc</th>\n",
       "      <th>busiest_day</th>\n",
       "      <th>busiest_days</th>\n",
       "      <th>busiest_period_of_day</th>\n",
       "      <th>max_order</th>\n",
       "      <th>loyalty_flag</th>\n",
       "      <th>avg_price</th>\n",
       "      <th>spend_flag</th>\n",
       "      <th>median_days_since_last_order</th>\n",
       "      <th>order_freq_flag</th>\n",
       "    </tr>\n",
       "  </thead>\n",
       "  <tbody>\n",
       "    <tr>\n",
       "      <th>0</th>\n",
       "      <td>2539329</td>\n",
       "      <td>1</td>\n",
       "      <td>1</td>\n",
       "      <td>2</td>\n",
       "      <td>8</td>\n",
       "      <td>NaN</td>\n",
       "      <td>196</td>\n",
       "      <td>1</td>\n",
       "      <td>0</td>\n",
       "      <td>both</td>\n",
       "      <td>...</td>\n",
       "      <td>Mid-range product</td>\n",
       "      <td>Regularly busy</td>\n",
       "      <td>Regularly busy</td>\n",
       "      <td>Average orders</td>\n",
       "      <td>10</td>\n",
       "      <td>New customer</td>\n",
       "      <td>6.367188</td>\n",
       "      <td>Low spender</td>\n",
       "      <td>20.5</td>\n",
       "      <td>Non-frequent customer</td>\n",
       "    </tr>\n",
       "    <tr>\n",
       "      <th>1</th>\n",
       "      <td>2398795</td>\n",
       "      <td>1</td>\n",
       "      <td>2</td>\n",
       "      <td>3</td>\n",
       "      <td>7</td>\n",
       "      <td>15.0</td>\n",
       "      <td>196</td>\n",
       "      <td>1</td>\n",
       "      <td>1</td>\n",
       "      <td>both</td>\n",
       "      <td>...</td>\n",
       "      <td>Mid-range product</td>\n",
       "      <td>Regularly busy</td>\n",
       "      <td>Least busy</td>\n",
       "      <td>Average orders</td>\n",
       "      <td>10</td>\n",
       "      <td>New customer</td>\n",
       "      <td>6.367188</td>\n",
       "      <td>Low spender</td>\n",
       "      <td>20.5</td>\n",
       "      <td>Non-frequent customer</td>\n",
       "    </tr>\n",
       "    <tr>\n",
       "      <th>2</th>\n",
       "      <td>473747</td>\n",
       "      <td>1</td>\n",
       "      <td>3</td>\n",
       "      <td>3</td>\n",
       "      <td>12</td>\n",
       "      <td>21.0</td>\n",
       "      <td>196</td>\n",
       "      <td>1</td>\n",
       "      <td>1</td>\n",
       "      <td>both</td>\n",
       "      <td>...</td>\n",
       "      <td>Mid-range product</td>\n",
       "      <td>Regularly busy</td>\n",
       "      <td>Least busy</td>\n",
       "      <td>Most orders</td>\n",
       "      <td>10</td>\n",
       "      <td>New customer</td>\n",
       "      <td>6.367188</td>\n",
       "      <td>Low spender</td>\n",
       "      <td>20.5</td>\n",
       "      <td>Non-frequent customer</td>\n",
       "    </tr>\n",
       "    <tr>\n",
       "      <th>3</th>\n",
       "      <td>2254736</td>\n",
       "      <td>1</td>\n",
       "      <td>4</td>\n",
       "      <td>4</td>\n",
       "      <td>7</td>\n",
       "      <td>29.0</td>\n",
       "      <td>196</td>\n",
       "      <td>1</td>\n",
       "      <td>1</td>\n",
       "      <td>both</td>\n",
       "      <td>...</td>\n",
       "      <td>Mid-range product</td>\n",
       "      <td>Least busy</td>\n",
       "      <td>Least busy</td>\n",
       "      <td>Average orders</td>\n",
       "      <td>10</td>\n",
       "      <td>New customer</td>\n",
       "      <td>6.367188</td>\n",
       "      <td>Low spender</td>\n",
       "      <td>20.5</td>\n",
       "      <td>Non-frequent customer</td>\n",
       "    </tr>\n",
       "    <tr>\n",
       "      <th>4</th>\n",
       "      <td>431534</td>\n",
       "      <td>1</td>\n",
       "      <td>5</td>\n",
       "      <td>4</td>\n",
       "      <td>15</td>\n",
       "      <td>28.0</td>\n",
       "      <td>196</td>\n",
       "      <td>1</td>\n",
       "      <td>1</td>\n",
       "      <td>both</td>\n",
       "      <td>...</td>\n",
       "      <td>Mid-range product</td>\n",
       "      <td>Least busy</td>\n",
       "      <td>Least busy</td>\n",
       "      <td>Most orders</td>\n",
       "      <td>10</td>\n",
       "      <td>New customer</td>\n",
       "      <td>6.367188</td>\n",
       "      <td>Low spender</td>\n",
       "      <td>20.5</td>\n",
       "      <td>Non-frequent customer</td>\n",
       "    </tr>\n",
       "  </tbody>\n",
       "</table>\n",
       "<p>5 rows × 25 columns</p>\n",
       "</div>"
      ],
      "text/plain": [
       "   order_id  user_id  order_number  order_day_of_week  order_hour_of_day  \\\n",
       "0   2539329        1             1                  2                  8   \n",
       "1   2398795        1             2                  3                  7   \n",
       "2    473747        1             3                  3                 12   \n",
       "3   2254736        1             4                  4                  7   \n",
       "4    431534        1             5                  4                 15   \n",
       "\n",
       "   days_since_last_order  product_id  add_to_cart_order  reordered _merge  \\\n",
       "0                    NaN         196                  1          0   both   \n",
       "1                   15.0         196                  1          1   both   \n",
       "2                   21.0         196                  1          1   both   \n",
       "3                   29.0         196                  1          1   both   \n",
       "4                   28.0         196                  1          1   both   \n",
       "\n",
       "   ...    price_range_loc     busiest_day    busiest_days  \\\n",
       "0  ...  Mid-range product  Regularly busy  Regularly busy   \n",
       "1  ...  Mid-range product  Regularly busy      Least busy   \n",
       "2  ...  Mid-range product  Regularly busy      Least busy   \n",
       "3  ...  Mid-range product      Least busy      Least busy   \n",
       "4  ...  Mid-range product      Least busy      Least busy   \n",
       "\n",
       "   busiest_period_of_day max_order  loyalty_flag avg_price   spend_flag  \\\n",
       "0         Average orders        10  New customer  6.367188  Low spender   \n",
       "1         Average orders        10  New customer  6.367188  Low spender   \n",
       "2            Most orders        10  New customer  6.367188  Low spender   \n",
       "3         Average orders        10  New customer  6.367188  Low spender   \n",
       "4            Most orders        10  New customer  6.367188  Low spender   \n",
       "\n",
       "  median_days_since_last_order        order_freq_flag  \n",
       "0                         20.5  Non-frequent customer  \n",
       "1                         20.5  Non-frequent customer  \n",
       "2                         20.5  Non-frequent customer  \n",
       "3                         20.5  Non-frequent customer  \n",
       "4                         20.5  Non-frequent customer  \n",
       "\n",
       "[5 rows x 25 columns]"
      ]
     },
     "execution_count": 9,
     "metadata": {},
     "output_type": "execute_result"
    }
   ],
   "source": [
    "ords_prods_merge.head()"
   ]
  },
  {
   "cell_type": "markdown",
   "id": "28e0bfed",
   "metadata": {},
   "source": [
    "## 3a- 3b. Importing dataset and dealing with memory errors - PLAN A ('customers_checked.pkl')"
   ]
  },
  {
   "cell_type": "code",
   "execution_count": 10,
   "id": "5bd2da78",
   "metadata": {},
   "outputs": [],
   "source": [
    "# Importing customers_checked.pkl dataset\n",
    "df_customers = pd.read_pickle(os.path.join(path, '02 Data', 'Prepared Data', 'customers_checked.pkl'))"
   ]
  },
  {
   "cell_type": "code",
   "execution_count": 11,
   "id": "a865953b",
   "metadata": {},
   "outputs": [
    {
     "name": "stdout",
     "output_type": "stream",
     "text": [
      "<class 'pandas.core.frame.DataFrame'>\n",
      "RangeIndex: 206209 entries, 0 to 206208\n",
      "Data columns (total 8 columns):\n",
      " #   Column            Non-Null Count   Dtype \n",
      "---  ------            --------------   ----- \n",
      " 0   user_id           206209 non-null  int64 \n",
      " 1   gender            206209 non-null  object\n",
      " 2   state             206209 non-null  object\n",
      " 3   age               206209 non-null  int64 \n",
      " 4   date_joined       206209 non-null  object\n",
      " 5   dependants_count  206209 non-null  int64 \n",
      " 6   fam_status        206209 non-null  object\n",
      " 7   income            206209 non-null  int64 \n",
      "dtypes: int64(4), object(4)\n",
      "memory usage: 12.6+ MB\n"
     ]
    }
   ],
   "source": [
    "df_customers.info()"
   ]
  },
  {
   "cell_type": "code",
   "execution_count": 12,
   "id": "e3fc8974",
   "metadata": {},
   "outputs": [],
   "source": [
    "df_customers['age'] = df_customers['age'].astype('int8')\n",
    "df_customers['dependants_count'] = df_customers['dependants_count'].astype('int8')"
   ]
  },
  {
   "cell_type": "code",
   "execution_count": 13,
   "id": "dd4b81f8",
   "metadata": {},
   "outputs": [
    {
     "name": "stdout",
     "output_type": "stream",
     "text": [
      "<class 'pandas.core.frame.DataFrame'>\n",
      "RangeIndex: 206209 entries, 0 to 206208\n",
      "Data columns (total 8 columns):\n",
      " #   Column            Non-Null Count   Dtype \n",
      "---  ------            --------------   ----- \n",
      " 0   user_id           206209 non-null  int64 \n",
      " 1   gender            206209 non-null  object\n",
      " 2   state             206209 non-null  object\n",
      " 3   age               206209 non-null  int8  \n",
      " 4   date_joined       206209 non-null  object\n",
      " 5   dependants_count  206209 non-null  int8  \n",
      " 6   fam_status        206209 non-null  object\n",
      " 7   income            206209 non-null  int64 \n",
      "dtypes: int64(2), int8(2), object(4)\n",
      "memory usage: 9.8+ MB\n"
     ]
    }
   ],
   "source": [
    "df_customers.info()"
   ]
  },
  {
   "cell_type": "code",
   "execution_count": 14,
   "id": "5c5727d3",
   "metadata": {},
   "outputs": [],
   "source": [
    "df_customers['user_id'] = df_customers['user_id'].astype('int32')"
   ]
  },
  {
   "cell_type": "code",
   "execution_count": 15,
   "id": "092b60af",
   "metadata": {},
   "outputs": [
    {
     "name": "stdout",
     "output_type": "stream",
     "text": [
      "<class 'pandas.core.frame.DataFrame'>\n",
      "RangeIndex: 206209 entries, 0 to 206208\n",
      "Data columns (total 8 columns):\n",
      " #   Column            Non-Null Count   Dtype \n",
      "---  ------            --------------   ----- \n",
      " 0   user_id           206209 non-null  int32 \n",
      " 1   gender            206209 non-null  object\n",
      " 2   state             206209 non-null  object\n",
      " 3   age               206209 non-null  int8  \n",
      " 4   date_joined       206209 non-null  object\n",
      " 5   dependants_count  206209 non-null  int8  \n",
      " 6   fam_status        206209 non-null  object\n",
      " 7   income            206209 non-null  int64 \n",
      "dtypes: int32(1), int64(1), int8(2), object(4)\n",
      "memory usage: 9.0+ MB\n"
     ]
    }
   ],
   "source": [
    "df_customers.info()"
   ]
  },
  {
   "cell_type": "code",
   "execution_count": 16,
   "id": "d5797faf",
   "metadata": {},
   "outputs": [
    {
     "data": {
      "text/html": [
       "<div>\n",
       "<style scoped>\n",
       "    .dataframe tbody tr th:only-of-type {\n",
       "        vertical-align: middle;\n",
       "    }\n",
       "\n",
       "    .dataframe tbody tr th {\n",
       "        vertical-align: top;\n",
       "    }\n",
       "\n",
       "    .dataframe thead th {\n",
       "        text-align: right;\n",
       "    }\n",
       "</style>\n",
       "<table border=\"1\" class=\"dataframe\">\n",
       "  <thead>\n",
       "    <tr style=\"text-align: right;\">\n",
       "      <th></th>\n",
       "      <th>user_id</th>\n",
       "      <th>gender</th>\n",
       "      <th>state</th>\n",
       "      <th>age</th>\n",
       "      <th>date_joined</th>\n",
       "      <th>dependants_count</th>\n",
       "      <th>fam_status</th>\n",
       "      <th>income</th>\n",
       "    </tr>\n",
       "  </thead>\n",
       "  <tbody>\n",
       "    <tr>\n",
       "      <th>0</th>\n",
       "      <td>26711</td>\n",
       "      <td>Female</td>\n",
       "      <td>Missouri</td>\n",
       "      <td>48</td>\n",
       "      <td>1/1/2017</td>\n",
       "      <td>3</td>\n",
       "      <td>married</td>\n",
       "      <td>165665</td>\n",
       "    </tr>\n",
       "    <tr>\n",
       "      <th>1</th>\n",
       "      <td>33890</td>\n",
       "      <td>Female</td>\n",
       "      <td>New Mexico</td>\n",
       "      <td>36</td>\n",
       "      <td>1/1/2017</td>\n",
       "      <td>0</td>\n",
       "      <td>single</td>\n",
       "      <td>59285</td>\n",
       "    </tr>\n",
       "    <tr>\n",
       "      <th>2</th>\n",
       "      <td>65803</td>\n",
       "      <td>Male</td>\n",
       "      <td>Idaho</td>\n",
       "      <td>35</td>\n",
       "      <td>1/1/2017</td>\n",
       "      <td>2</td>\n",
       "      <td>married</td>\n",
       "      <td>99568</td>\n",
       "    </tr>\n",
       "    <tr>\n",
       "      <th>3</th>\n",
       "      <td>125935</td>\n",
       "      <td>Female</td>\n",
       "      <td>Iowa</td>\n",
       "      <td>40</td>\n",
       "      <td>1/1/2017</td>\n",
       "      <td>0</td>\n",
       "      <td>single</td>\n",
       "      <td>42049</td>\n",
       "    </tr>\n",
       "    <tr>\n",
       "      <th>4</th>\n",
       "      <td>130797</td>\n",
       "      <td>Female</td>\n",
       "      <td>Maryland</td>\n",
       "      <td>26</td>\n",
       "      <td>1/1/2017</td>\n",
       "      <td>1</td>\n",
       "      <td>married</td>\n",
       "      <td>40374</td>\n",
       "    </tr>\n",
       "  </tbody>\n",
       "</table>\n",
       "</div>"
      ],
      "text/plain": [
       "   user_id  gender       state  age date_joined  dependants_count fam_status  \\\n",
       "0    26711  Female    Missouri   48    1/1/2017                 3    married   \n",
       "1    33890  Female  New Mexico   36    1/1/2017                 0     single   \n",
       "2    65803    Male       Idaho   35    1/1/2017                 2    married   \n",
       "3   125935  Female        Iowa   40    1/1/2017                 0     single   \n",
       "4   130797  Female    Maryland   26    1/1/2017                 1    married   \n",
       "\n",
       "   income  \n",
       "0  165665  \n",
       "1   59285  \n",
       "2   99568  \n",
       "3   42049  \n",
       "4   40374  "
      ]
     },
     "execution_count": 16,
     "metadata": {},
     "output_type": "execute_result"
    }
   ],
   "source": [
    "df_customers.head()"
   ]
  },
  {
   "cell_type": "markdown",
   "id": "aa78e76b",
   "metadata": {},
   "source": [
    "#### Note: Attempted to change \"income\" to int32, but the data came back with negative numbers so reverted it back to original data type."
   ]
  },
  {
   "cell_type": "markdown",
   "id": "1754caa1",
   "metadata": {},
   "source": [
    "## 4. (Step 6) Merging 'df_customers' with 'ords_prods_merge'"
   ]
  },
  {
   "cell_type": "code",
   "execution_count": 17,
   "id": "fa24118a",
   "metadata": {},
   "outputs": [
    {
     "data": {
      "text/plain": [
       "(206209, 8)"
      ]
     },
     "execution_count": 17,
     "metadata": {},
     "output_type": "execute_result"
    }
   ],
   "source": [
    "df_customers.shape"
   ]
  },
  {
   "cell_type": "code",
   "execution_count": 18,
   "id": "1b850678",
   "metadata": {},
   "outputs": [
    {
     "data": {
      "text/plain": [
       "(32399732, 25)"
      ]
     },
     "execution_count": 18,
     "metadata": {},
     "output_type": "execute_result"
    }
   ],
   "source": [
    "ords_prods_merge.shape"
   ]
  },
  {
   "cell_type": "code",
   "execution_count": 19,
   "id": "df7bac71",
   "metadata": {},
   "outputs": [],
   "source": [
    "# Inner join merge 'ords_prods_merge' with 'df_customers'\n",
    "df_merged_large_3 = ords_prods_merge.merge(df_customers, on = 'user_id', indicator = '_merge_3')"
   ]
  },
  {
   "cell_type": "code",
   "execution_count": 20,
   "id": "01383837",
   "metadata": {},
   "outputs": [
    {
     "data": {
      "text/html": [
       "<div>\n",
       "<style scoped>\n",
       "    .dataframe tbody tr th:only-of-type {\n",
       "        vertical-align: middle;\n",
       "    }\n",
       "\n",
       "    .dataframe tbody tr th {\n",
       "        vertical-align: top;\n",
       "    }\n",
       "\n",
       "    .dataframe thead th {\n",
       "        text-align: right;\n",
       "    }\n",
       "</style>\n",
       "<table border=\"1\" class=\"dataframe\">\n",
       "  <thead>\n",
       "    <tr style=\"text-align: right;\">\n",
       "      <th></th>\n",
       "      <th>order_id</th>\n",
       "      <th>user_id</th>\n",
       "      <th>order_number</th>\n",
       "      <th>order_day_of_week</th>\n",
       "      <th>order_hour_of_day</th>\n",
       "      <th>days_since_last_order</th>\n",
       "      <th>product_id</th>\n",
       "      <th>add_to_cart_order</th>\n",
       "      <th>reordered</th>\n",
       "      <th>_merge</th>\n",
       "      <th>...</th>\n",
       "      <th>median_days_since_last_order</th>\n",
       "      <th>order_freq_flag</th>\n",
       "      <th>gender</th>\n",
       "      <th>state</th>\n",
       "      <th>age</th>\n",
       "      <th>date_joined</th>\n",
       "      <th>dependants_count</th>\n",
       "      <th>fam_status</th>\n",
       "      <th>income</th>\n",
       "      <th>_merge_3</th>\n",
       "    </tr>\n",
       "  </thead>\n",
       "  <tbody>\n",
       "    <tr>\n",
       "      <th>0</th>\n",
       "      <td>2539329</td>\n",
       "      <td>1</td>\n",
       "      <td>1</td>\n",
       "      <td>2</td>\n",
       "      <td>8</td>\n",
       "      <td>NaN</td>\n",
       "      <td>196</td>\n",
       "      <td>1</td>\n",
       "      <td>0</td>\n",
       "      <td>both</td>\n",
       "      <td>...</td>\n",
       "      <td>20.5</td>\n",
       "      <td>Non-frequent customer</td>\n",
       "      <td>Female</td>\n",
       "      <td>Alabama</td>\n",
       "      <td>31</td>\n",
       "      <td>2/17/2019</td>\n",
       "      <td>3</td>\n",
       "      <td>married</td>\n",
       "      <td>40423</td>\n",
       "      <td>both</td>\n",
       "    </tr>\n",
       "    <tr>\n",
       "      <th>1</th>\n",
       "      <td>2398795</td>\n",
       "      <td>1</td>\n",
       "      <td>2</td>\n",
       "      <td>3</td>\n",
       "      <td>7</td>\n",
       "      <td>15.0</td>\n",
       "      <td>196</td>\n",
       "      <td>1</td>\n",
       "      <td>1</td>\n",
       "      <td>both</td>\n",
       "      <td>...</td>\n",
       "      <td>20.5</td>\n",
       "      <td>Non-frequent customer</td>\n",
       "      <td>Female</td>\n",
       "      <td>Alabama</td>\n",
       "      <td>31</td>\n",
       "      <td>2/17/2019</td>\n",
       "      <td>3</td>\n",
       "      <td>married</td>\n",
       "      <td>40423</td>\n",
       "      <td>both</td>\n",
       "    </tr>\n",
       "    <tr>\n",
       "      <th>2</th>\n",
       "      <td>473747</td>\n",
       "      <td>1</td>\n",
       "      <td>3</td>\n",
       "      <td>3</td>\n",
       "      <td>12</td>\n",
       "      <td>21.0</td>\n",
       "      <td>196</td>\n",
       "      <td>1</td>\n",
       "      <td>1</td>\n",
       "      <td>both</td>\n",
       "      <td>...</td>\n",
       "      <td>20.5</td>\n",
       "      <td>Non-frequent customer</td>\n",
       "      <td>Female</td>\n",
       "      <td>Alabama</td>\n",
       "      <td>31</td>\n",
       "      <td>2/17/2019</td>\n",
       "      <td>3</td>\n",
       "      <td>married</td>\n",
       "      <td>40423</td>\n",
       "      <td>both</td>\n",
       "    </tr>\n",
       "    <tr>\n",
       "      <th>3</th>\n",
       "      <td>2254736</td>\n",
       "      <td>1</td>\n",
       "      <td>4</td>\n",
       "      <td>4</td>\n",
       "      <td>7</td>\n",
       "      <td>29.0</td>\n",
       "      <td>196</td>\n",
       "      <td>1</td>\n",
       "      <td>1</td>\n",
       "      <td>both</td>\n",
       "      <td>...</td>\n",
       "      <td>20.5</td>\n",
       "      <td>Non-frequent customer</td>\n",
       "      <td>Female</td>\n",
       "      <td>Alabama</td>\n",
       "      <td>31</td>\n",
       "      <td>2/17/2019</td>\n",
       "      <td>3</td>\n",
       "      <td>married</td>\n",
       "      <td>40423</td>\n",
       "      <td>both</td>\n",
       "    </tr>\n",
       "    <tr>\n",
       "      <th>4</th>\n",
       "      <td>431534</td>\n",
       "      <td>1</td>\n",
       "      <td>5</td>\n",
       "      <td>4</td>\n",
       "      <td>15</td>\n",
       "      <td>28.0</td>\n",
       "      <td>196</td>\n",
       "      <td>1</td>\n",
       "      <td>1</td>\n",
       "      <td>both</td>\n",
       "      <td>...</td>\n",
       "      <td>20.5</td>\n",
       "      <td>Non-frequent customer</td>\n",
       "      <td>Female</td>\n",
       "      <td>Alabama</td>\n",
       "      <td>31</td>\n",
       "      <td>2/17/2019</td>\n",
       "      <td>3</td>\n",
       "      <td>married</td>\n",
       "      <td>40423</td>\n",
       "      <td>both</td>\n",
       "    </tr>\n",
       "  </tbody>\n",
       "</table>\n",
       "<p>5 rows × 33 columns</p>\n",
       "</div>"
      ],
      "text/plain": [
       "   order_id  user_id  order_number  order_day_of_week  order_hour_of_day  \\\n",
       "0   2539329        1             1                  2                  8   \n",
       "1   2398795        1             2                  3                  7   \n",
       "2    473747        1             3                  3                 12   \n",
       "3   2254736        1             4                  4                  7   \n",
       "4    431534        1             5                  4                 15   \n",
       "\n",
       "   days_since_last_order  product_id  add_to_cart_order  reordered _merge  \\\n",
       "0                    NaN         196                  1          0   both   \n",
       "1                   15.0         196                  1          1   both   \n",
       "2                   21.0         196                  1          1   both   \n",
       "3                   29.0         196                  1          1   both   \n",
       "4                   28.0         196                  1          1   both   \n",
       "\n",
       "   ... median_days_since_last_order        order_freq_flag  gender    state  \\\n",
       "0  ...                         20.5  Non-frequent customer  Female  Alabama   \n",
       "1  ...                         20.5  Non-frequent customer  Female  Alabama   \n",
       "2  ...                         20.5  Non-frequent customer  Female  Alabama   \n",
       "3  ...                         20.5  Non-frequent customer  Female  Alabama   \n",
       "4  ...                         20.5  Non-frequent customer  Female  Alabama   \n",
       "\n",
       "  age date_joined dependants_count fam_status income  _merge_3  \n",
       "0  31   2/17/2019                3    married  40423      both  \n",
       "1  31   2/17/2019                3    married  40423      both  \n",
       "2  31   2/17/2019                3    married  40423      both  \n",
       "3  31   2/17/2019                3    married  40423      both  \n",
       "4  31   2/17/2019                3    married  40423      both  \n",
       "\n",
       "[5 rows x 33 columns]"
      ]
     },
     "execution_count": 20,
     "metadata": {},
     "output_type": "execute_result"
    }
   ],
   "source": [
    "df_merged_large_3.head()"
   ]
  },
  {
   "cell_type": "code",
   "execution_count": 21,
   "id": "e1dd4588",
   "metadata": {},
   "outputs": [
    {
     "data": {
      "text/plain": [
       "both          32399732\n",
       "left_only            0\n",
       "right_only           0\n",
       "Name: _merge_3, dtype: int64"
      ]
     },
     "execution_count": 21,
     "metadata": {},
     "output_type": "execute_result"
    }
   ],
   "source": [
    "# Check the frequency of the merge\n",
    "df_merged_large_3['_merge_3'].value_counts()"
   ]
  },
  {
   "cell_type": "code",
   "execution_count": 22,
   "id": "7707f9ea",
   "metadata": {},
   "outputs": [
    {
     "data": {
      "text/plain": [
       "(32399732, 33)"
      ]
     },
     "execution_count": 22,
     "metadata": {},
     "output_type": "execute_result"
    }
   ],
   "source": [
    "df_merged_large_3.shape"
   ]
  },
  {
   "cell_type": "code",
   "execution_count": 23,
   "id": "31ce1fac",
   "metadata": {},
   "outputs": [
    {
     "name": "stdout",
     "output_type": "stream",
     "text": [
      "<class 'pandas.core.frame.DataFrame'>\n",
      "Int64Index: 32399732 entries, 0 to 32399731\n",
      "Data columns (total 33 columns):\n",
      " #   Column                        Dtype   \n",
      "---  ------                        -----   \n",
      " 0   order_id                      int32   \n",
      " 1   user_id                       int32   \n",
      " 2   order_number                  int8    \n",
      " 3   order_day_of_week             int8    \n",
      " 4   order_hour_of_day             int8    \n",
      " 5   days_since_last_order         float16 \n",
      " 6   product_id                    int32   \n",
      " 7   add_to_cart_order             int32   \n",
      " 8   reordered                     int8    \n",
      " 9   _merge                        category\n",
      " 10  product_name                  object  \n",
      " 11  aisle_id                      int8    \n",
      " 12  department_id                 int8    \n",
      " 13  prices                        float16 \n",
      " 14  _merge_2                      category\n",
      " 15  price_range_loc               object  \n",
      " 16  busiest_day                   object  \n",
      " 17  busiest_days                  object  \n",
      " 18  busiest_period_of_day         object  \n",
      " 19  max_order                     int8    \n",
      " 20  loyalty_flag                  object  \n",
      " 21  avg_price                     float16 \n",
      " 22  spend_flag                    object  \n",
      " 23  median_days_since_last_order  float16 \n",
      " 24  order_freq_flag               object  \n",
      " 25  gender                        object  \n",
      " 26  state                         object  \n",
      " 27  age                           int8    \n",
      " 28  date_joined                   object  \n",
      " 29  dependants_count              int8    \n",
      " 30  fam_status                    object  \n",
      " 31  income                        int64   \n",
      " 32  _merge_3                      category\n",
      "dtypes: category(3), float16(4), int32(4), int64(1), int8(9), object(12)\n",
      "memory usage: 4.5+ GB\n"
     ]
    }
   ],
   "source": [
    "df_merged_large_3.info()"
   ]
  },
  {
   "cell_type": "markdown",
   "id": "b2987698",
   "metadata": {},
   "source": [
    "## 5. (Step 8) Export df_merged_large_3 as 'orders_products_all' as pkl file"
   ]
  },
  {
   "cell_type": "code",
   "execution_count": 24,
   "id": "129ca607",
   "metadata": {},
   "outputs": [],
   "source": [
    "# Exporting to pickle file 'orders_products_all'\n",
    "df_merged_large_3.to_pickle(os.path.join(path, '02 Data','Prepared Data', 'orders_products_all.pkl'))"
   ]
  },
  {
   "cell_type": "code",
   "execution_count": null,
   "id": "762129cd",
   "metadata": {},
   "outputs": [],
   "source": []
  }
 ],
 "metadata": {
  "kernelspec": {
   "display_name": "Python 3 (ipykernel)",
   "language": "python",
   "name": "python3"
  },
  "language_info": {
   "codemirror_mode": {
    "name": "ipython",
    "version": 3
   },
   "file_extension": ".py",
   "mimetype": "text/x-python",
   "name": "python",
   "nbconvert_exporter": "python",
   "pygments_lexer": "ipython3",
   "version": "3.9.13"
  }
 },
 "nbformat": 4,
 "nbformat_minor": 5
}
