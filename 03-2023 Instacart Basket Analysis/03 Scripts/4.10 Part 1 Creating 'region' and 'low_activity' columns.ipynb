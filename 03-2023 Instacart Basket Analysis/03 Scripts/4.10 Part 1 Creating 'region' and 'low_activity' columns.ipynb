{
 "cells": [
  {
   "cell_type": "markdown",
   "id": "99288cd2",
   "metadata": {},
   "source": [
    "### This script contains the following points:\n",
    "Note: Corresponding steps for exercise task shown as (Step x)\n",
    "\n",
    "#### 1. (Step 1) Importing libraries, defining project path, and importing \"orders_products_all.pkl\"\n",
    "#### 2. (Step 2) A note about PII\n",
    "#### 3. (Step 3a) Creating column \"region\"\n",
    "#### 4. (Step 3b) Analyzing spending habits between regions\n",
    "#### 5. (Step 4a) Creating column for exclusion flag \"low_activity?\" (to identify low activity customers)\n",
    "#### 6. (Step 4b) Exporting file as \"orders_products_all_flagged.pkl\""
   ]
  },
  {
   "cell_type": "markdown",
   "id": "9d213a76",
   "metadata": {},
   "source": [
    "## 1. (Step 1) Importing Libraries, Defining Project Path, and Importing Datasets"
   ]
  },
  {
   "cell_type": "code",
   "execution_count": 1,
   "id": "7f5e06ff",
   "metadata": {},
   "outputs": [],
   "source": [
    "# Import libraries\n",
    "\n",
    "import pandas as pd\n",
    "import numpy as np\n",
    "import os\n",
    "import matplotlib.pyplot as plt\n",
    "import seaborn as sns\n",
    "import scipy"
   ]
  },
  {
   "cell_type": "code",
   "execution_count": 2,
   "id": "1acdfe61",
   "metadata": {},
   "outputs": [],
   "source": [
    "# Set path\n",
    "path = r'C:\\Users\\prena\\03-2023 Instacart Basket Analysis'"
   ]
  },
  {
   "cell_type": "code",
   "execution_count": 3,
   "id": "d5d183de",
   "metadata": {},
   "outputs": [],
   "source": [
    "# Importing orders_products_all.pkl dataset\n",
    "ords_prods_all = pd.read_pickle(os.path.join(path, '02 Data', 'Prepared Data', 'orders_products_all.pkl'))"
   ]
  },
  {
   "cell_type": "code",
   "execution_count": 4,
   "id": "b3379845",
   "metadata": {},
   "outputs": [
    {
     "data": {
      "text/plain": [
       "(32399732, 33)"
      ]
     },
     "execution_count": 4,
     "metadata": {},
     "output_type": "execute_result"
    }
   ],
   "source": [
    "ords_prods_all.shape"
   ]
  },
  {
   "cell_type": "code",
   "execution_count": 5,
   "id": "52ff6823",
   "metadata": {},
   "outputs": [],
   "source": [
    "# Set display to max columns for when we want to review the head() or tail()\n",
    "pd.set_option('display.max_columns', None)"
   ]
  },
  {
   "cell_type": "code",
   "execution_count": 6,
   "id": "72976def",
   "metadata": {},
   "outputs": [
    {
     "data": {
      "text/html": [
       "<div>\n",
       "<style scoped>\n",
       "    .dataframe tbody tr th:only-of-type {\n",
       "        vertical-align: middle;\n",
       "    }\n",
       "\n",
       "    .dataframe tbody tr th {\n",
       "        vertical-align: top;\n",
       "    }\n",
       "\n",
       "    .dataframe thead th {\n",
       "        text-align: right;\n",
       "    }\n",
       "</style>\n",
       "<table border=\"1\" class=\"dataframe\">\n",
       "  <thead>\n",
       "    <tr style=\"text-align: right;\">\n",
       "      <th></th>\n",
       "      <th>order_id</th>\n",
       "      <th>user_id</th>\n",
       "      <th>order_number</th>\n",
       "      <th>order_day_of_week</th>\n",
       "      <th>order_hour_of_day</th>\n",
       "      <th>days_since_last_order</th>\n",
       "      <th>product_id</th>\n",
       "      <th>add_to_cart_order</th>\n",
       "      <th>reordered</th>\n",
       "      <th>_merge</th>\n",
       "      <th>product_name</th>\n",
       "      <th>aisle_id</th>\n",
       "      <th>department_id</th>\n",
       "      <th>prices</th>\n",
       "      <th>_merge_2</th>\n",
       "      <th>price_range_loc</th>\n",
       "      <th>busiest_day</th>\n",
       "      <th>busiest_days</th>\n",
       "      <th>busiest_period_of_day</th>\n",
       "      <th>max_order</th>\n",
       "      <th>loyalty_flag</th>\n",
       "      <th>avg_price</th>\n",
       "      <th>spend_flag</th>\n",
       "      <th>median_days_since_last_order</th>\n",
       "      <th>order_freq_flag</th>\n",
       "      <th>gender</th>\n",
       "      <th>state</th>\n",
       "      <th>age</th>\n",
       "      <th>date_joined</th>\n",
       "      <th>dependants_count</th>\n",
       "      <th>fam_status</th>\n",
       "      <th>income</th>\n",
       "      <th>_merge_3</th>\n",
       "    </tr>\n",
       "  </thead>\n",
       "  <tbody>\n",
       "    <tr>\n",
       "      <th>0</th>\n",
       "      <td>2539329</td>\n",
       "      <td>1</td>\n",
       "      <td>1</td>\n",
       "      <td>2</td>\n",
       "      <td>8</td>\n",
       "      <td>NaN</td>\n",
       "      <td>196</td>\n",
       "      <td>1</td>\n",
       "      <td>0</td>\n",
       "      <td>both</td>\n",
       "      <td>Soda</td>\n",
       "      <td>77</td>\n",
       "      <td>7</td>\n",
       "      <td>9.0</td>\n",
       "      <td>both</td>\n",
       "      <td>Mid-range product</td>\n",
       "      <td>Regularly busy</td>\n",
       "      <td>Regularly busy</td>\n",
       "      <td>Average orders</td>\n",
       "      <td>10</td>\n",
       "      <td>New customer</td>\n",
       "      <td>6.367188</td>\n",
       "      <td>Low spender</td>\n",
       "      <td>20.5</td>\n",
       "      <td>Non-frequent customer</td>\n",
       "      <td>Female</td>\n",
       "      <td>Alabama</td>\n",
       "      <td>31</td>\n",
       "      <td>2/17/2019</td>\n",
       "      <td>3</td>\n",
       "      <td>married</td>\n",
       "      <td>40423</td>\n",
       "      <td>both</td>\n",
       "    </tr>\n",
       "    <tr>\n",
       "      <th>1</th>\n",
       "      <td>2398795</td>\n",
       "      <td>1</td>\n",
       "      <td>2</td>\n",
       "      <td>3</td>\n",
       "      <td>7</td>\n",
       "      <td>15.0</td>\n",
       "      <td>196</td>\n",
       "      <td>1</td>\n",
       "      <td>1</td>\n",
       "      <td>both</td>\n",
       "      <td>Soda</td>\n",
       "      <td>77</td>\n",
       "      <td>7</td>\n",
       "      <td>9.0</td>\n",
       "      <td>both</td>\n",
       "      <td>Mid-range product</td>\n",
       "      <td>Regularly busy</td>\n",
       "      <td>Least busy</td>\n",
       "      <td>Average orders</td>\n",
       "      <td>10</td>\n",
       "      <td>New customer</td>\n",
       "      <td>6.367188</td>\n",
       "      <td>Low spender</td>\n",
       "      <td>20.5</td>\n",
       "      <td>Non-frequent customer</td>\n",
       "      <td>Female</td>\n",
       "      <td>Alabama</td>\n",
       "      <td>31</td>\n",
       "      <td>2/17/2019</td>\n",
       "      <td>3</td>\n",
       "      <td>married</td>\n",
       "      <td>40423</td>\n",
       "      <td>both</td>\n",
       "    </tr>\n",
       "    <tr>\n",
       "      <th>2</th>\n",
       "      <td>473747</td>\n",
       "      <td>1</td>\n",
       "      <td>3</td>\n",
       "      <td>3</td>\n",
       "      <td>12</td>\n",
       "      <td>21.0</td>\n",
       "      <td>196</td>\n",
       "      <td>1</td>\n",
       "      <td>1</td>\n",
       "      <td>both</td>\n",
       "      <td>Soda</td>\n",
       "      <td>77</td>\n",
       "      <td>7</td>\n",
       "      <td>9.0</td>\n",
       "      <td>both</td>\n",
       "      <td>Mid-range product</td>\n",
       "      <td>Regularly busy</td>\n",
       "      <td>Least busy</td>\n",
       "      <td>Most orders</td>\n",
       "      <td>10</td>\n",
       "      <td>New customer</td>\n",
       "      <td>6.367188</td>\n",
       "      <td>Low spender</td>\n",
       "      <td>20.5</td>\n",
       "      <td>Non-frequent customer</td>\n",
       "      <td>Female</td>\n",
       "      <td>Alabama</td>\n",
       "      <td>31</td>\n",
       "      <td>2/17/2019</td>\n",
       "      <td>3</td>\n",
       "      <td>married</td>\n",
       "      <td>40423</td>\n",
       "      <td>both</td>\n",
       "    </tr>\n",
       "    <tr>\n",
       "      <th>3</th>\n",
       "      <td>2254736</td>\n",
       "      <td>1</td>\n",
       "      <td>4</td>\n",
       "      <td>4</td>\n",
       "      <td>7</td>\n",
       "      <td>29.0</td>\n",
       "      <td>196</td>\n",
       "      <td>1</td>\n",
       "      <td>1</td>\n",
       "      <td>both</td>\n",
       "      <td>Soda</td>\n",
       "      <td>77</td>\n",
       "      <td>7</td>\n",
       "      <td>9.0</td>\n",
       "      <td>both</td>\n",
       "      <td>Mid-range product</td>\n",
       "      <td>Least busy</td>\n",
       "      <td>Least busy</td>\n",
       "      <td>Average orders</td>\n",
       "      <td>10</td>\n",
       "      <td>New customer</td>\n",
       "      <td>6.367188</td>\n",
       "      <td>Low spender</td>\n",
       "      <td>20.5</td>\n",
       "      <td>Non-frequent customer</td>\n",
       "      <td>Female</td>\n",
       "      <td>Alabama</td>\n",
       "      <td>31</td>\n",
       "      <td>2/17/2019</td>\n",
       "      <td>3</td>\n",
       "      <td>married</td>\n",
       "      <td>40423</td>\n",
       "      <td>both</td>\n",
       "    </tr>\n",
       "    <tr>\n",
       "      <th>4</th>\n",
       "      <td>431534</td>\n",
       "      <td>1</td>\n",
       "      <td>5</td>\n",
       "      <td>4</td>\n",
       "      <td>15</td>\n",
       "      <td>28.0</td>\n",
       "      <td>196</td>\n",
       "      <td>1</td>\n",
       "      <td>1</td>\n",
       "      <td>both</td>\n",
       "      <td>Soda</td>\n",
       "      <td>77</td>\n",
       "      <td>7</td>\n",
       "      <td>9.0</td>\n",
       "      <td>both</td>\n",
       "      <td>Mid-range product</td>\n",
       "      <td>Least busy</td>\n",
       "      <td>Least busy</td>\n",
       "      <td>Most orders</td>\n",
       "      <td>10</td>\n",
       "      <td>New customer</td>\n",
       "      <td>6.367188</td>\n",
       "      <td>Low spender</td>\n",
       "      <td>20.5</td>\n",
       "      <td>Non-frequent customer</td>\n",
       "      <td>Female</td>\n",
       "      <td>Alabama</td>\n",
       "      <td>31</td>\n",
       "      <td>2/17/2019</td>\n",
       "      <td>3</td>\n",
       "      <td>married</td>\n",
       "      <td>40423</td>\n",
       "      <td>both</td>\n",
       "    </tr>\n",
       "  </tbody>\n",
       "</table>\n",
       "</div>"
      ],
      "text/plain": [
       "   order_id  user_id  order_number  order_day_of_week  order_hour_of_day  \\\n",
       "0   2539329        1             1                  2                  8   \n",
       "1   2398795        1             2                  3                  7   \n",
       "2    473747        1             3                  3                 12   \n",
       "3   2254736        1             4                  4                  7   \n",
       "4    431534        1             5                  4                 15   \n",
       "\n",
       "   days_since_last_order  product_id  add_to_cart_order  reordered _merge  \\\n",
       "0                    NaN         196                  1          0   both   \n",
       "1                   15.0         196                  1          1   both   \n",
       "2                   21.0         196                  1          1   both   \n",
       "3                   29.0         196                  1          1   both   \n",
       "4                   28.0         196                  1          1   both   \n",
       "\n",
       "  product_name  aisle_id  department_id  prices _merge_2    price_range_loc  \\\n",
       "0         Soda        77              7     9.0     both  Mid-range product   \n",
       "1         Soda        77              7     9.0     both  Mid-range product   \n",
       "2         Soda        77              7     9.0     both  Mid-range product   \n",
       "3         Soda        77              7     9.0     both  Mid-range product   \n",
       "4         Soda        77              7     9.0     both  Mid-range product   \n",
       "\n",
       "      busiest_day    busiest_days busiest_period_of_day  max_order  \\\n",
       "0  Regularly busy  Regularly busy        Average orders         10   \n",
       "1  Regularly busy      Least busy        Average orders         10   \n",
       "2  Regularly busy      Least busy           Most orders         10   \n",
       "3      Least busy      Least busy        Average orders         10   \n",
       "4      Least busy      Least busy           Most orders         10   \n",
       "\n",
       "   loyalty_flag  avg_price   spend_flag  median_days_since_last_order  \\\n",
       "0  New customer   6.367188  Low spender                          20.5   \n",
       "1  New customer   6.367188  Low spender                          20.5   \n",
       "2  New customer   6.367188  Low spender                          20.5   \n",
       "3  New customer   6.367188  Low spender                          20.5   \n",
       "4  New customer   6.367188  Low spender                          20.5   \n",
       "\n",
       "         order_freq_flag  gender    state  age date_joined  dependants_count  \\\n",
       "0  Non-frequent customer  Female  Alabama   31   2/17/2019                 3   \n",
       "1  Non-frequent customer  Female  Alabama   31   2/17/2019                 3   \n",
       "2  Non-frequent customer  Female  Alabama   31   2/17/2019                 3   \n",
       "3  Non-frequent customer  Female  Alabama   31   2/17/2019                 3   \n",
       "4  Non-frequent customer  Female  Alabama   31   2/17/2019                 3   \n",
       "\n",
       "  fam_status  income _merge_3  \n",
       "0    married   40423     both  \n",
       "1    married   40423     both  \n",
       "2    married   40423     both  \n",
       "3    married   40423     both  \n",
       "4    married   40423     both  "
      ]
     },
     "execution_count": 6,
     "metadata": {},
     "output_type": "execute_result"
    }
   ],
   "source": [
    "# Checking ords_prods_all to see all column names (for reference)\n",
    "ords_prods_all.head()"
   ]
  },
  {
   "cell_type": "markdown",
   "id": "65cc080f",
   "metadata": {},
   "source": [
    "## 2. (Step 2) Consider security implications\n",
    "PII data was removed from the customer data set during wrangling and consistency check step (see script 4.9 Part 1a, step 4b)."
   ]
  },
  {
   "cell_type": "markdown",
   "id": "f439426a",
   "metadata": {},
   "source": [
    "## 3. (Step 3a) Create \"region\" column"
   ]
  },
  {
   "cell_type": "code",
   "execution_count": 7,
   "id": "3bd680c3",
   "metadata": {},
   "outputs": [],
   "source": [
    "# Creating region \"Northeast\"\n",
    "ords_prods_all.loc[ords_prods_all['state'].isin(['Maine','New Hampshire','Vermont','Massachusetts','Rhode Island','Connecticut', 'New York','Pennsylvania','New Jersey']), 'region'] = \"Northeast\""
   ]
  },
  {
   "cell_type": "code",
   "execution_count": 8,
   "id": "5ceb3c58",
   "metadata": {},
   "outputs": [],
   "source": [
    "# Creating region \"Midwest\"\n",
    "ords_prods_all.loc[ords_prods_all['state'].isin(['Wisconsin','Michigan','Illinois','Indiana','Ohio', 'North Dakota', 'South Dakota', 'Nebraska', 'Kansas', 'Minnesota', 'Iowa', 'Missouri']), 'region'] = \"Midwest\""
   ]
  },
  {
   "cell_type": "code",
   "execution_count": 9,
   "id": "5ab5ec6d",
   "metadata": {},
   "outputs": [],
   "source": [
    "# Creating region \"South\"\n",
    "ords_prods_all.loc[ords_prods_all['state'].isin(['Delaware', 'Maryland', 'District of Columbia', 'Virginia', 'West Virginia', 'North Carolina', 'South Carolina', 'Georgia', 'Florida', 'Kentucky', 'Tennessee', 'Mississippi', 'Alabama', 'Oklahoma', 'Texas', 'Arkansas', 'Louisiana']), 'region'] = \"South\""
   ]
  },
  {
   "cell_type": "code",
   "execution_count": 10,
   "id": "138aeda0",
   "metadata": {},
   "outputs": [],
   "source": [
    "# Creating region \"West\"\n",
    "ords_prods_all.loc[ords_prods_all['state'].isin(['Idaho', 'Montana', 'Wyoming', 'Nevada', 'Utah', 'Colorado', 'Arizona', 'New Mexico', 'Alaska', 'Washington', 'Oregon', 'California', 'Hawaii']), 'region'] = \"West\""
   ]
  },
  {
   "cell_type": "code",
   "execution_count": 11,
   "id": "cc545c6d",
   "metadata": {},
   "outputs": [
    {
     "data": {
      "text/plain": [
       "South        10790096\n",
       "West          8291679\n",
       "Midwest       7596065\n",
       "Northeast     5721892\n",
       "Name: region, dtype: int64"
      ]
     },
     "execution_count": 11,
     "metadata": {},
     "output_type": "execute_result"
    }
   ],
   "source": [
    "# Frequency count for new column 'region'\n",
    "ords_prods_all['region'].value_counts(dropna = False)"
   ]
  },
  {
   "cell_type": "code",
   "execution_count": 12,
   "id": "4e11d235",
   "metadata": {},
   "outputs": [
    {
     "data": {
      "image/png": "[encoded data removed]",
      "text/plain": [
       "<Figure size 640x480 with 1 Axes>"
      ]
     },
     "metadata": {},
     "output_type": "display_data"
    }
   ],
   "source": [
    "bar_region = ords_prods_all['region'].value_counts(dropna = False).plot.bar()"
   ]
  },
  {
   "cell_type": "code",
   "execution_count": 13,
   "id": "33bfce9d",
   "metadata": {},
   "outputs": [],
   "source": [
    "# Export bar chart into project folder\n",
    "bar_region.figure.savefig(os.path.join(path, '04 Analysis','Visualizations', 'bar_region.png'))"
   ]
  },
  {
   "cell_type": "markdown",
   "id": "dfe4c0d0",
   "metadata": {},
   "source": [
    "## 4. (Step 3b) Analyzing spending habits between U.S regions"
   ]
  },
  {
   "cell_type": "code",
   "execution_count": 14,
   "id": "1f21891e",
   "metadata": {},
   "outputs": [],
   "source": [
    "ct_region_day = pd.crosstab(ords_prods_all['region'], ords_prods_all['order_day_of_week'], dropna = False)"
   ]
  },
  {
   "cell_type": "code",
   "execution_count": 15,
   "id": "c3292286",
   "metadata": {},
   "outputs": [
    {
     "data": {
      "text/html": [
       "<div>\n",
       "<style scoped>\n",
       "    .dataframe tbody tr th:only-of-type {\n",
       "        vertical-align: middle;\n",
       "    }\n",
       "\n",
       "    .dataframe tbody tr th {\n",
       "        vertical-align: top;\n",
       "    }\n",
       "\n",
       "    .dataframe thead th {\n",
       "        text-align: right;\n",
       "    }\n",
       "</style>\n",
       "<table border=\"1\" class=\"dataframe\">\n",
       "  <thead>\n",
       "    <tr style=\"text-align: right;\">\n",
       "      <th>order_day_of_week</th>\n",
       "      <th>0</th>\n",
       "      <th>1</th>\n",
       "      <th>2</th>\n",
       "      <th>3</th>\n",
       "      <th>4</th>\n",
       "      <th>5</th>\n",
       "      <th>6</th>\n",
       "    </tr>\n",
       "    <tr>\n",
       "      <th>region</th>\n",
       "      <th></th>\n",
       "      <th></th>\n",
       "      <th></th>\n",
       "      <th></th>\n",
       "      <th></th>\n",
       "      <th></th>\n",
       "      <th></th>\n",
       "    </tr>\n",
       "  </thead>\n",
       "  <tbody>\n",
       "    <tr>\n",
       "      <th>Midwest</th>\n",
       "      <td>1459973</td>\n",
       "      <td>1320548</td>\n",
       "      <td>991592</td>\n",
       "      <td>894942</td>\n",
       "      <td>887984</td>\n",
       "      <td>983066</td>\n",
       "      <td>1057960</td>\n",
       "    </tr>\n",
       "    <tr>\n",
       "      <th>Northeast</th>\n",
       "      <td>1097110</td>\n",
       "      <td>999814</td>\n",
       "      <td>746040</td>\n",
       "      <td>679186</td>\n",
       "      <td>666222</td>\n",
       "      <td>746336</td>\n",
       "      <td>787184</td>\n",
       "    </tr>\n",
       "    <tr>\n",
       "      <th>South</th>\n",
       "      <td>2052471</td>\n",
       "      <td>1891699</td>\n",
       "      <td>1404407</td>\n",
       "      <td>1287100</td>\n",
       "      <td>1258322</td>\n",
       "      <td>1399512</td>\n",
       "      <td>1496585</td>\n",
       "    </tr>\n",
       "    <tr>\n",
       "      <th>West</th>\n",
       "      <td>1593775</td>\n",
       "      <td>1447237</td>\n",
       "      <td>1071066</td>\n",
       "      <td>978637</td>\n",
       "      <td>970644</td>\n",
       "      <td>1076162</td>\n",
       "      <td>1154158</td>\n",
       "    </tr>\n",
       "  </tbody>\n",
       "</table>\n",
       "</div>"
      ],
      "text/plain": [
       "order_day_of_week        0        1        2        3        4        5  \\\n",
       "region                                                                    \n",
       "Midwest            1459973  1320548   991592   894942   887984   983066   \n",
       "Northeast          1097110   999814   746040   679186   666222   746336   \n",
       "South              2052471  1891699  1404407  1287100  1258322  1399512   \n",
       "West               1593775  1447237  1071066   978637   970644  1076162   \n",
       "\n",
       "order_day_of_week        6  \n",
       "region                      \n",
       "Midwest            1057960  \n",
       "Northeast           787184  \n",
       "South              1496585  \n",
       "West               1154158  "
      ]
     },
     "execution_count": 15,
     "metadata": {},
     "output_type": "execute_result"
    }
   ],
   "source": [
    "ct_region_day"
   ]
  },
  {
   "cell_type": "code",
   "execution_count": 16,
   "id": "88ca73ac",
   "metadata": {},
   "outputs": [
    {
     "data": {
      "image/png": "[encoded data removed]",
      "text/plain": [
       "<Figure size 640x480 with 1 Axes>"
      ]
     },
     "metadata": {},
     "output_type": "display_data"
    }
   ],
   "source": [
    "bar_region_day = ct_region_day.plot.bar()"
   ]
  },
  {
   "cell_type": "code",
   "execution_count": 17,
   "id": "899c0d26",
   "metadata": {},
   "outputs": [],
   "source": [
    "# Export bar chart into project folder\n",
    "bar_region_day.figure.savefig(os.path.join(path, '04 Analysis','Visualizations', 'bar_region_day.png'))"
   ]
  },
  {
   "cell_type": "code",
   "execution_count": 18,
   "id": "f1fe6249",
   "metadata": {},
   "outputs": [],
   "source": [
    "ct_region_hour = pd.crosstab(ords_prods_all['order_hour_of_day'], ords_prods_all['region'], dropna = False)"
   ]
  },
  {
   "cell_type": "code",
   "execution_count": 19,
   "id": "bd69f1a6",
   "metadata": {},
   "outputs": [
    {
     "data": {
      "text/html": [
       "<div>\n",
       "<style scoped>\n",
       "    .dataframe tbody tr th:only-of-type {\n",
       "        vertical-align: middle;\n",
       "    }\n",
       "\n",
       "    .dataframe tbody tr th {\n",
       "        vertical-align: top;\n",
       "    }\n",
       "\n",
       "    .dataframe thead th {\n",
       "        text-align: right;\n",
       "    }\n",
       "</style>\n",
       "<table border=\"1\" class=\"dataframe\">\n",
       "  <thead>\n",
       "    <tr style=\"text-align: right;\">\n",
       "      <th>region</th>\n",
       "      <th>Midwest</th>\n",
       "      <th>Northeast</th>\n",
       "      <th>South</th>\n",
       "      <th>West</th>\n",
       "    </tr>\n",
       "    <tr>\n",
       "      <th>order_hour_of_day</th>\n",
       "      <th></th>\n",
       "      <th></th>\n",
       "      <th></th>\n",
       "      <th></th>\n",
       "    </tr>\n",
       "  </thead>\n",
       "  <tbody>\n",
       "    <tr>\n",
       "      <th>0</th>\n",
       "      <td>50743</td>\n",
       "      <td>38552</td>\n",
       "      <td>73289</td>\n",
       "      <td>56158</td>\n",
       "    </tr>\n",
       "    <tr>\n",
       "      <th>1</th>\n",
       "      <td>27357</td>\n",
       "      <td>21541</td>\n",
       "      <td>37905</td>\n",
       "      <td>28880</td>\n",
       "    </tr>\n",
       "    <tr>\n",
       "      <th>2</th>\n",
       "      <td>16984</td>\n",
       "      <td>12433</td>\n",
       "      <td>21975</td>\n",
       "      <td>17968</td>\n",
       "    </tr>\n",
       "    <tr>\n",
       "      <th>3</th>\n",
       "      <td>11905</td>\n",
       "      <td>9216</td>\n",
       "      <td>17434</td>\n",
       "      <td>12713</td>\n",
       "    </tr>\n",
       "    <tr>\n",
       "      <th>4</th>\n",
       "      <td>12688</td>\n",
       "      <td>9506</td>\n",
       "      <td>17961</td>\n",
       "      <td>13077</td>\n",
       "    </tr>\n",
       "    <tr>\n",
       "      <th>5</th>\n",
       "      <td>19857</td>\n",
       "      <td>15393</td>\n",
       "      <td>30831</td>\n",
       "      <td>21863</td>\n",
       "    </tr>\n",
       "    <tr>\n",
       "      <th>6</th>\n",
       "      <td>67283</td>\n",
       "      <td>50539</td>\n",
       "      <td>98679</td>\n",
       "      <td>73949</td>\n",
       "    </tr>\n",
       "    <tr>\n",
       "      <th>7</th>\n",
       "      <td>208233</td>\n",
       "      <td>158932</td>\n",
       "      <td>297695</td>\n",
       "      <td>226063</td>\n",
       "    </tr>\n",
       "    <tr>\n",
       "      <th>8</th>\n",
       "      <td>398085</td>\n",
       "      <td>305303</td>\n",
       "      <td>578943</td>\n",
       "      <td>435532</td>\n",
       "    </tr>\n",
       "    <tr>\n",
       "      <th>9</th>\n",
       "      <td>572755</td>\n",
       "      <td>430037</td>\n",
       "      <td>822736</td>\n",
       "      <td>628314</td>\n",
       "    </tr>\n",
       "    <tr>\n",
       "      <th>10</th>\n",
       "      <td>646478</td>\n",
       "      <td>484798</td>\n",
       "      <td>923156</td>\n",
       "      <td>706901</td>\n",
       "    </tr>\n",
       "    <tr>\n",
       "      <th>11</th>\n",
       "      <td>641742</td>\n",
       "      <td>482775</td>\n",
       "      <td>909211</td>\n",
       "      <td>701966</td>\n",
       "    </tr>\n",
       "    <tr>\n",
       "      <th>12</th>\n",
       "      <td>612237</td>\n",
       "      <td>465571</td>\n",
       "      <td>868440</td>\n",
       "      <td>671856</td>\n",
       "    </tr>\n",
       "    <tr>\n",
       "      <th>13</th>\n",
       "      <td>618645</td>\n",
       "      <td>472648</td>\n",
       "      <td>879391</td>\n",
       "      <td>689886</td>\n",
       "    </tr>\n",
       "    <tr>\n",
       "      <th>14</th>\n",
       "      <td>625029</td>\n",
       "      <td>475290</td>\n",
       "      <td>893025</td>\n",
       "      <td>695384</td>\n",
       "    </tr>\n",
       "    <tr>\n",
       "      <th>15</th>\n",
       "      <td>628062</td>\n",
       "      <td>470103</td>\n",
       "      <td>882190</td>\n",
       "      <td>681363</td>\n",
       "    </tr>\n",
       "    <tr>\n",
       "      <th>16</th>\n",
       "      <td>597239</td>\n",
       "      <td>446328</td>\n",
       "      <td>840889</td>\n",
       "      <td>650288</td>\n",
       "    </tr>\n",
       "    <tr>\n",
       "      <th>17</th>\n",
       "      <td>491194</td>\n",
       "      <td>366114</td>\n",
       "      <td>694750</td>\n",
       "      <td>535215</td>\n",
       "    </tr>\n",
       "    <tr>\n",
       "      <th>18</th>\n",
       "      <td>388682</td>\n",
       "      <td>287324</td>\n",
       "      <td>543481</td>\n",
       "      <td>416739</td>\n",
       "    </tr>\n",
       "    <tr>\n",
       "      <th>19</th>\n",
       "      <td>296651</td>\n",
       "      <td>219230</td>\n",
       "      <td>423479</td>\n",
       "      <td>318716</td>\n",
       "    </tr>\n",
       "    <tr>\n",
       "      <th>20</th>\n",
       "      <td>231202</td>\n",
       "      <td>170697</td>\n",
       "      <td>324117</td>\n",
       "      <td>249984</td>\n",
       "    </tr>\n",
       "    <tr>\n",
       "      <th>21</th>\n",
       "      <td>189277</td>\n",
       "      <td>140327</td>\n",
       "      <td>266686</td>\n",
       "      <td>199238</td>\n",
       "    </tr>\n",
       "    <tr>\n",
       "      <th>22</th>\n",
       "      <td>151245</td>\n",
       "      <td>114486</td>\n",
       "      <td>208874</td>\n",
       "      <td>159554</td>\n",
       "    </tr>\n",
       "    <tr>\n",
       "      <th>23</th>\n",
       "      <td>92492</td>\n",
       "      <td>74749</td>\n",
       "      <td>134959</td>\n",
       "      <td>100072</td>\n",
       "    </tr>\n",
       "  </tbody>\n",
       "</table>\n",
       "</div>"
      ],
      "text/plain": [
       "region             Midwest  Northeast   South    West\n",
       "order_hour_of_day                                    \n",
       "0                    50743      38552   73289   56158\n",
       "1                    27357      21541   37905   28880\n",
       "2                    16984      12433   21975   17968\n",
       "3                    11905       9216   17434   12713\n",
       "4                    12688       9506   17961   13077\n",
       "5                    19857      15393   30831   21863\n",
       "6                    67283      50539   98679   73949\n",
       "7                   208233     158932  297695  226063\n",
       "8                   398085     305303  578943  435532\n",
       "9                   572755     430037  822736  628314\n",
       "10                  646478     484798  923156  706901\n",
       "11                  641742     482775  909211  701966\n",
       "12                  612237     465571  868440  671856\n",
       "13                  618645     472648  879391  689886\n",
       "14                  625029     475290  893025  695384\n",
       "15                  628062     470103  882190  681363\n",
       "16                  597239     446328  840889  650288\n",
       "17                  491194     366114  694750  535215\n",
       "18                  388682     287324  543481  416739\n",
       "19                  296651     219230  423479  318716\n",
       "20                  231202     170697  324117  249984\n",
       "21                  189277     140327  266686  199238\n",
       "22                  151245     114486  208874  159554\n",
       "23                   92492      74749  134959  100072"
      ]
     },
     "execution_count": 19,
     "metadata": {},
     "output_type": "execute_result"
    }
   ],
   "source": [
    "ct_region_hour"
   ]
  },
  {
   "cell_type": "code",
   "execution_count": 20,
   "id": "d245f1fa",
   "metadata": {},
   "outputs": [
    {
     "data": {
      "image/png": "[encoded data removed]",
      "text/plain": [
       "<Figure size 640x480 with 1 Axes>"
      ]
     },
     "metadata": {},
     "output_type": "display_data"
    }
   ],
   "source": [
    "line_region_hour = ct_region_hour.plot.line()"
   ]
  },
  {
   "cell_type": "code",
   "execution_count": 21,
   "id": "8492eab6",
   "metadata": {},
   "outputs": [],
   "source": [
    "# Export line chart into project folder\n",
    "line_region_hour.figure.savefig(os.path.join(path, '04 Analysis','Visualizations', 'line_region_hour.png'))"
   ]
  },
  {
   "cell_type": "markdown",
   "id": "3a1edf10",
   "metadata": {},
   "source": [
    "## 5. (Step 4a) Exclusion flag for low-activity customers"
   ]
  },
  {
   "cell_type": "code",
   "execution_count": 22,
   "id": "1a9f874e",
   "metadata": {},
   "outputs": [],
   "source": [
    "# Create new column (\"low_activity?\") that will contain Y to indicate low-activity, and N to indicate the opposite\n",
    "result = []\n",
    "\n",
    "for value in ords_prods_all[\"max_order\"]:\n",
    "    if value < 5:\n",
    "        result.append(\"Y\")\n",
    "    else:\n",
    "        result.append(\"N\")"
   ]
  },
  {
   "cell_type": "code",
   "execution_count": 23,
   "id": "a42bf855",
   "metadata": {},
   "outputs": [],
   "source": [
    "# Create new column called 'low_activity?' within ords_prods_all dataframe and set it equal to result\n",
    "ords_prods_all['low_activity?'] = result"
   ]
  },
  {
   "cell_type": "code",
   "execution_count": 24,
   "id": "3203f15d",
   "metadata": {},
   "outputs": [
    {
     "data": {
      "text/plain": [
       "N    30959687\n",
       "Y     1440045\n",
       "Name: low_activity?, dtype: int64"
      ]
     },
     "execution_count": 24,
     "metadata": {},
     "output_type": "execute_result"
    }
   ],
   "source": [
    "# Check frequency of column 'low_activity?'\n",
    "ords_prods_all['low_activity?'].value_counts(dropna = False)"
   ]
  },
  {
   "cell_type": "code",
   "execution_count": 25,
   "id": "d222fc43",
   "metadata": {
    "scrolled": false
   },
   "outputs": [],
   "source": [
    "ords_prods_all_flagged = ords_prods_all[ords_prods_all['low_activity?'] == 'N']"
   ]
  },
  {
   "cell_type": "code",
   "execution_count": 26,
   "id": "ede88515",
   "metadata": {},
   "outputs": [
    {
     "name": "stdout",
     "output_type": "stream",
     "text": [
      "<class 'pandas.core.frame.DataFrame'>\n",
      "Int64Index: 30959687 entries, 0 to 32399727\n",
      "Data columns (total 35 columns):\n",
      " #   Column                        Dtype   \n",
      "---  ------                        -----   \n",
      " 0   order_id                      int32   \n",
      " 1   user_id                       int32   \n",
      " 2   order_number                  int8    \n",
      " 3   order_day_of_week             int8    \n",
      " 4   order_hour_of_day             int8    \n",
      " 5   days_since_last_order         float16 \n",
      " 6   product_id                    int32   \n",
      " 7   add_to_cart_order             int32   \n",
      " 8   reordered                     int8    \n",
      " 9   _merge                        category\n",
      " 10  product_name                  object  \n",
      " 11  aisle_id                      int8    \n",
      " 12  department_id                 int8    \n",
      " 13  prices                        float16 \n",
      " 14  _merge_2                      category\n",
      " 15  price_range_loc               object  \n",
      " 16  busiest_day                   object  \n",
      " 17  busiest_days                  object  \n",
      " 18  busiest_period_of_day         object  \n",
      " 19  max_order                     int8    \n",
      " 20  loyalty_flag                  object  \n",
      " 21  avg_price                     float16 \n",
      " 22  spend_flag                    object  \n",
      " 23  median_days_since_last_order  float16 \n",
      " 24  order_freq_flag               object  \n",
      " 25  gender                        object  \n",
      " 26  state                         object  \n",
      " 27  age                           int8    \n",
      " 28  date_joined                   object  \n",
      " 29  dependants_count              int8    \n",
      " 30  fam_status                    object  \n",
      " 31  income                        int64   \n",
      " 32  _merge_3                      category\n",
      " 33  region                        object  \n",
      " 34  low_activity?                 object  \n",
      "dtypes: category(3), float16(4), int32(4), int64(1), int8(9), object(14)\n",
      "memory usage: 4.7+ GB\n"
     ]
    }
   ],
   "source": [
    "ords_prods_all_flagged.info()"
   ]
  },
  {
   "cell_type": "markdown",
   "id": "180378ea",
   "metadata": {},
   "source": [
    "## 6. (Step 4b) Exporting file as \"orders_products_all_flagged.pkl\""
   ]
  },
  {
   "cell_type": "code",
   "execution_count": 28,
   "id": "0a2b88e7",
   "metadata": {},
   "outputs": [],
   "source": [
    "# Export flagged data to pkl\n",
    "ords_prods_all_flagged.to_pickle(os.path.join(path, '02 Data','Prepared Data', 'orders_products_all_flagged.pkl'))"
   ]
  }
 ],
 "metadata": {
  "kernelspec": {
   "display_name": "Python 3 (ipykernel)",
   "language": "python",
   "name": "python3"
  },
  "language_info": {
   "codemirror_mode": {
    "name": "ipython",
    "version": 3
   },
   "file_extension": ".py",
   "mimetype": "text/x-python",
   "name": "python",
   "nbconvert_exporter": "python",
   "pygments_lexer": "ipython3",
   "version": "3.9.13"
  }
 },
 "nbformat": 4,
 "nbformat_minor": 5
}
